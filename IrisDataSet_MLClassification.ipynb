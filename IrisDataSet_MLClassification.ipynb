{
  "nbformat": 4,
  "nbformat_minor": 0,
  "metadata": {
    "colab": {
      "name": "IrisDataSet_MLClassification.ipynb",
      "provenance": [],
      "collapsed_sections": [],
      "authorship_tag": "ABX9TyNizuvWQGRE520J8Xxh9Xxe",
      "include_colab_link": true
    },
    "kernelspec": {
      "name": "python3",
      "display_name": "Python 3"
    }
  },
  "cells": [
    {
      "cell_type": "markdown",
      "metadata": {
        "id": "view-in-github",
        "colab_type": "text"
      },
      "source": [
        "<a href=\"https://colab.research.google.com/github/alexandreleitetrevisani/DATA_SCIENCE_MACHINE_LEARNING/blob/master/IrisDataSet_MLClassification.ipynb\" target=\"_parent\"><img src=\"https://colab.research.google.com/assets/colab-badge.svg\" alt=\"Open In Colab\"/></a>"
      ]
    },
    {
      "cell_type": "code",
      "metadata": {
        "id": "YzeZM6rdvHcX",
        "colab_type": "code",
        "outputId": "710366c0-3217-4cc1-b2e7-271e546b4816",
        "colab": {
          "base_uri": "https://localhost:8080/",
          "height": 35
        }
      },
      "source": [
        "!apt-get -qq install -y turicreate"
      ],
      "execution_count": 1,
      "outputs": [
        {
          "output_type": "stream",
          "text": [
            "E: Unable to locate package turicreate\n"
          ],
          "name": "stdout"
        }
      ]
    },
    {
      "cell_type": "code",
      "metadata": {
        "id": "2-Vly82wvuTS",
        "colab_type": "code",
        "outputId": "5cc60c04-d63f-4b83-8861-4f4a56de6df1",
        "colab": {
          "base_uri": "https://localhost:8080/",
          "height": 180
        }
      },
      "source": [
        "!pip install -q turicreate"
      ],
      "execution_count": 2,
      "outputs": [
        {
          "output_type": "stream",
          "text": [
            "\u001b[K     |████████████████████████████████| 91.8MB 59kB/s \n",
            "\u001b[K     |████████████████████████████████| 3.4MB 46.3MB/s \n",
            "\u001b[K     |████████████████████████████████| 327kB 49.3MB/s \n",
            "\u001b[K     |████████████████████████████████| 86.3MB 48kB/s \n",
            "\u001b[K     |████████████████████████████████| 3.8MB 43.4MB/s \n",
            "\u001b[K     |████████████████████████████████| 450kB 49.7MB/s \n",
            "\u001b[?25h  Building wheel for resampy (setup.py) ... \u001b[?25l\u001b[?25hdone\n",
            "  Building wheel for gast (setup.py) ... \u001b[?25l\u001b[?25hdone\n",
            "\u001b[31mERROR: tensorflow-probability 0.10.0rc0 has requirement gast>=0.3.2, but you'll have gast 0.2.2 which is incompatible.\u001b[0m\n"
          ],
          "name": "stdout"
        }
      ]
    },
    {
      "cell_type": "code",
      "metadata": {
        "colab_type": "code",
        "id": "rTqYFVlcvZec",
        "colab": {}
      },
      "source": [
        "import warnings\n",
        "warnings.filterwarnings('ignore')\n",
        "import pandas as pd\n",
        "from pandas.plotting import scatter_matrix\n",
        "from matplotlib import pyplot\n",
        "import os\n",
        "import turicreate as tc"
      ],
      "execution_count": 0,
      "outputs": []
    },
    {
      "cell_type": "code",
      "metadata": {
        "id": "1qaoY__zWT9l",
        "colab_type": "code",
        "outputId": "14209b1f-f516-46e0-bbae-8f10a8d3cf26",
        "colab": {
          "base_uri": "https://localhost:8080/",
          "height": 71
        }
      },
      "source": [
        "print(' Machine Learning and Data Science')\n",
        "print(os.getcwd())\n",
        "filename = 'https://archive.ics.uci.edu/ml/machine-learning-databases/iris/iris.data'\n",
        "print('The INPUT DataFile: ', filename)"
      ],
      "execution_count": 4,
      "outputs": [
        {
          "output_type": "stream",
          "text": [
            " Machine Learning and Data Science\n",
            "/content\n",
            "The INPUT DataFile:  https://archive.ics.uci.edu/ml/machine-learning-databases/iris/iris.data\n"
          ],
          "name": "stdout"
        }
      ]
    },
    {
      "cell_type": "code",
      "metadata": {
        "id": "H-MAIV9SXD2L",
        "colab_type": "code",
        "outputId": "82c666d4-cb5d-4cfc-e355-1a9af7d1d80d",
        "colab": {
          "base_uri": "https://localhost:8080/",
          "height": 289
        }
      },
      "source": [
        "print(filename)\n",
        "col_names = ['sepal_length', 'sepal_width', 'petal_length', 'petal_width', 'class']\n",
        "\n",
        "dataset = pd.read_csv(filename, names=col_names)\n",
        "\n",
        "print(dataset.shape)\n",
        "print(dataset.columns)\n",
        "print(dataset.head())\n",
        "print(dataset.tail())"
      ],
      "execution_count": 5,
      "outputs": [
        {
          "output_type": "stream",
          "text": [
            "https://archive.ics.uci.edu/ml/machine-learning-databases/iris/iris.data\n",
            "(150, 5)\n",
            "Index(['sepal_length', 'sepal_width', 'petal_length', 'petal_width', 'class'], dtype='object')\n",
            "   sepal_length  sepal_width  petal_length  petal_width        class\n",
            "0           5.1          3.5           1.4          0.2  Iris-setosa\n",
            "1           4.9          3.0           1.4          0.2  Iris-setosa\n",
            "2           4.7          3.2           1.3          0.2  Iris-setosa\n",
            "3           4.6          3.1           1.5          0.2  Iris-setosa\n",
            "4           5.0          3.6           1.4          0.2  Iris-setosa\n",
            "     sepal_length  sepal_width  petal_length  petal_width           class\n",
            "145           6.7          3.0           5.2          2.3  Iris-virginica\n",
            "146           6.3          2.5           5.0          1.9  Iris-virginica\n",
            "147           6.5          3.0           5.2          2.0  Iris-virginica\n",
            "148           6.2          3.4           5.4          2.3  Iris-virginica\n",
            "149           5.9          3.0           5.1          1.8  Iris-virginica\n"
          ],
          "name": "stdout"
        }
      ]
    },
    {
      "cell_type": "code",
      "metadata": {
        "id": "N-oeAU44YQ-T",
        "colab_type": "code",
        "outputId": "5d7126e1-c794-457e-e0db-74a3c225d8c1",
        "colab": {
          "base_uri": "https://localhost:8080/",
          "height": 397
        }
      },
      "source": [
        "cols1 = ['sepal_length', 'sepal_width', 'petal_length', 'petal_width']\n",
        "\n",
        "print(dataset[cols1].shape)\n",
        "\n",
        "print(dataset[cols1].head(5))\n",
        "\n",
        "print(dataset[cols1].describe())\n",
        "\n",
        "print(dataset.groupby('class').size())"
      ],
      "execution_count": 6,
      "outputs": [
        {
          "output_type": "stream",
          "text": [
            "(150, 4)\n",
            "   sepal_length  sepal_width  petal_length  petal_width\n",
            "0           5.1          3.5           1.4          0.2\n",
            "1           4.9          3.0           1.4          0.2\n",
            "2           4.7          3.2           1.3          0.2\n",
            "3           4.6          3.1           1.5          0.2\n",
            "4           5.0          3.6           1.4          0.2\n",
            "       sepal_length  sepal_width  petal_length  petal_width\n",
            "count    150.000000   150.000000    150.000000   150.000000\n",
            "mean       5.843333     3.054000      3.758667     1.198667\n",
            "std        0.828066     0.433594      1.764420     0.763161\n",
            "min        4.300000     2.000000      1.000000     0.100000\n",
            "25%        5.100000     2.800000      1.600000     0.300000\n",
            "50%        5.800000     3.000000      4.350000     1.300000\n",
            "75%        6.400000     3.300000      5.100000     1.800000\n",
            "max        7.900000     4.400000      6.900000     2.500000\n",
            "class\n",
            "Iris-setosa        50\n",
            "Iris-versicolor    50\n",
            "Iris-virginica     50\n",
            "dtype: int64\n"
          ],
          "name": "stdout"
        }
      ]
    },
    {
      "cell_type": "code",
      "metadata": {
        "id": "dOiDMqeGZBHZ",
        "colab_type": "code",
        "outputId": "27aeeb33-dbfa-42ab-8e00-1805e1920e52",
        "colab": {
          "base_uri": "https://localhost:8080/",
          "height": 913
        }
      },
      "source": [
        "print()\n",
        "print('box and whisker plots')\n",
        "dataset[cols1].plot(kind='box', subplots=True, layout=(1, 4), sharex=False, sharey=False)\n",
        "pyplot.show()\n",
        "\n",
        "print()\n",
        "print('histograms')\n",
        "dataset[cols1].hist()\n",
        "pyplot.show()\n",
        "\n",
        "print()\n",
        "print('scatter plot matrix')\n",
        "scatter_matrix(dataset[cols1])\n",
        "pyplot.show()"
      ],
      "execution_count": 7,
      "outputs": [
        {
          "output_type": "stream",
          "text": [
            "\n",
            "box and whisker plots\n"
          ],
          "name": "stdout"
        },
        {
          "output_type": "display_data",
          "data": {
            "image/png": "[encoded data removed]",
            "text/plain": [
              "<Figure size 432x288 with 4 Axes>"
            ]
          },
          "metadata": {
            "tags": [],
            "needs_background": "light"
          }
        },
        {
          "output_type": "stream",
          "text": [
            "\n",
            "histograms\n"
          ],
          "name": "stdout"
        },
        {
          "output_type": "display_data",
          "data": {
            "image/png": "[encoded data removed]",
            "text/plain": [
              "<Figure size 432x288 with 4 Axes>"
            ]
          },
          "metadata": {
            "tags": [],
            "needs_background": "light"
          }
        },
        {
          "output_type": "stream",
          "text": [
            "\n",
            "scatter plot matrix\n"
          ],
          "name": "stdout"
        },
        {
          "output_type": "display_data",
          "data": {
            "image/png": "[encoded data removed]",
            "text/plain": [
              "<Figure size 432x288 with 16 Axes>"
            ]
          },
          "metadata": {
            "tags": [],
            "needs_background": "light"
          }
        }
      ]
    },
    {
      "cell_type": "code",
      "metadata": {
        "id": "6m3hj4RNaBsc",
        "colab_type": "code",
        "outputId": "6790956e-855c-4d44-dab4-16c295fe198f",
        "colab": {
          "base_uri": "https://localhost:8080/",
          "height": 669
        }
      },
      "source": [
        "dataset = tc.SFrame(dataset)\n",
        "\n",
        "train_Data, test_Data = dataset.random_split(0.67)\n",
        "\n",
        "print('Train Data:: '); print(train_Data.shape); print(train_Data.head())\n",
        "print('Test Data :: '); print(test_Data.shape); print(test_Data.head())"
      ],
      "execution_count": 8,
      "outputs": [
        {
          "output_type": "stream",
          "text": [
            "Train Data:: \n",
            "(111, 5)\n",
            "+--------------+-------------+--------------+-------------+-------------+\n",
            "| sepal_length | sepal_width | petal_length | petal_width |    class    |\n",
            "+--------------+-------------+--------------+-------------+-------------+\n",
            "|     5.1      |     3.5     |     1.4      |     0.2     | Iris-setosa |\n",
            "|     4.6      |     3.1     |     1.5      |     0.2     | Iris-setosa |\n",
            "|     5.4      |     3.9     |     1.7      |     0.4     | Iris-setosa |\n",
            "|     5.0      |     3.4     |     1.5      |     0.2     | Iris-setosa |\n",
            "|     4.4      |     2.9     |     1.4      |     0.2     | Iris-setosa |\n",
            "|     4.9      |     3.1     |     1.5      |     0.1     | Iris-setosa |\n",
            "|     5.4      |     3.7     |     1.5      |     0.2     | Iris-setosa |\n",
            "|     4.8      |     3.4     |     1.6      |     0.2     | Iris-setosa |\n",
            "|     5.7      |     4.4     |     1.5      |     0.4     | Iris-setosa |\n",
            "|     5.4      |     3.9     |     1.3      |     0.4     | Iris-setosa |\n",
            "+--------------+-------------+--------------+-------------+-------------+\n",
            "[10 rows x 5 columns]\n",
            "\n",
            "Test Data :: \n",
            "(39, 5)\n",
            "+--------------+-------------+--------------+-------------+-------------+\n",
            "| sepal_length | sepal_width | petal_length | petal_width |    class    |\n",
            "+--------------+-------------+--------------+-------------+-------------+\n",
            "|     4.9      |     3.0     |     1.4      |     0.2     | Iris-setosa |\n",
            "|     4.7      |     3.2     |     1.3      |     0.2     | Iris-setosa |\n",
            "|     5.0      |     3.6     |     1.4      |     0.2     | Iris-setosa |\n",
            "|     4.6      |     3.4     |     1.4      |     0.3     | Iris-setosa |\n",
            "|     4.8      |     3.0     |     1.4      |     0.1     | Iris-setosa |\n",
            "|     4.3      |     3.0     |     1.1      |     0.1     | Iris-setosa |\n",
            "|     5.8      |     4.0     |     1.2      |     0.2     | Iris-setosa |\n",
            "|     5.1      |     3.8     |     1.5      |     0.3     | Iris-setosa |\n",
            "|     5.0      |     3.4     |     1.6      |     0.4     | Iris-setosa |\n",
            "|     5.4      |     3.4     |     1.5      |     0.4     | Iris-setosa |\n",
            "+--------------+-------------+--------------+-------------+-------------+\n",
            "[10 rows x 5 columns]\n",
            "\n"
          ],
          "name": "stdout"
        }
      ]
    },
    {
      "cell_type": "code",
      "metadata": {
        "id": "fHTpiiphbnxB",
        "colab_type": "code",
        "outputId": "747f3ed4-6eab-49f7-c333-6976fabbf839",
        "colab": {
          "base_uri": "https://localhost:8080/",
          "height": 1000
        }
      },
      "source": [
        "model_lc = tc.logistic_classifier.create(train_Data, target= 'class', features=['sepal_length', 'sepal_width', 'petal_length', 'petal_width'])\n",
        "print(model_lc)\n",
        "\n",
        "predictions = model_lc.classify(test_Data)\n",
        "print('PREDICTIONS: \\n', predictions)\n",
        "\n",
        "results_lc = model_lc.evaluate(test_Data)\n",
        "print('EVALUATION: \\n', results_lc)\n",
        "\n",
        "print('\\nAccuracy: ', results_lc['accuracy'])\n"
      ],
      "execution_count": 9,
      "outputs": [
        {
          "output_type": "stream",
          "text": [
            "PROGRESS: Creating a validation set from 5 percent of training data. This may take a while.\n",
            "          You can set ``validation_set=None`` to disable validation tracking.\n",
            "\n"
          ],
          "name": "stdout"
        },
        {
          "output_type": "display_data",
          "data": {
            "text/html": [
              "<pre>Logistic regression:</pre>"
            ],
            "text/plain": [
              "Logistic regression:"
            ]
          },
          "metadata": {
            "tags": []
          }
        },
        {
          "output_type": "display_data",
          "data": {
            "text/html": [
              "<pre>--------------------------------------------------------</pre>"
            ],
            "text/plain": [
              "--------------------------------------------------------"
            ]
          },
          "metadata": {
            "tags": []
          }
        },
        {
          "output_type": "display_data",
          "data": {
            "text/html": [
              "<pre>Number of examples          : 105</pre>"
            ],
            "text/plain": [
              "Number of examples          : 105"
            ]
          },
          "metadata": {
            "tags": []
          }
        },
        {
          "output_type": "display_data",
          "data": {
            "text/html": [
              "<pre>Number of classes           : 3</pre>"
            ],
            "text/plain": [
              "Number of classes           : 3"
            ]
          },
          "metadata": {
            "tags": []
          }
        },
        {
          "output_type": "display_data",
          "data": {
            "text/html": [
              "<pre>Number of feature columns   : 4</pre>"
            ],
            "text/plain": [
              "Number of feature columns   : 4"
            ]
          },
          "metadata": {
            "tags": []
          }
        },
        {
          "output_type": "display_data",
          "data": {
            "text/html": [
              "<pre>Number of unpacked features : 4</pre>"
            ],
            "text/plain": [
              "Number of unpacked features : 4"
            ]
          },
          "metadata": {
            "tags": []
          }
        },
        {
          "output_type": "display_data",
          "data": {
            "text/html": [
              "<pre>Number of coefficients      : 10</pre>"
            ],
            "text/plain": [
              "Number of coefficients      : 10"
            ]
          },
          "metadata": {
            "tags": []
          }
        },
        {
          "output_type": "display_data",
          "data": {
            "text/html": [
              "<pre>Starting Newton Method</pre>"
            ],
            "text/plain": [
              "Starting Newton Method"
            ]
          },
          "metadata": {
            "tags": []
          }
        },
        {
          "output_type": "display_data",
          "data": {
            "text/html": [
              "<pre>--------------------------------------------------------</pre>"
            ],
            "text/plain": [
              "--------------------------------------------------------"
            ]
          },
          "metadata": {
            "tags": []
          }
        },
        {
          "output_type": "display_data",
          "data": {
            "text/html": [
              "<pre>+-----------+----------+--------------+-------------------+---------------------+</pre>"
            ],
            "text/plain": [
              "+-----------+----------+--------------+-------------------+---------------------+"
            ]
          },
          "metadata": {
            "tags": []
          }
        },
        {
          "output_type": "display_data",
          "data": {
            "text/html": [
              "<pre>| Iteration | Passes   | Elapsed Time | Training Accuracy | Validation Accuracy |</pre>"
            ],
            "text/plain": [
              "| Iteration | Passes   | Elapsed Time | Training Accuracy | Validation Accuracy |"
            ]
          },
          "metadata": {
            "tags": []
          }
        },
        {
          "output_type": "display_data",
          "data": {
            "text/html": [
              "<pre>+-----------+----------+--------------+-------------------+---------------------+</pre>"
            ],
            "text/plain": [
              "+-----------+----------+--------------+-------------------+---------------------+"
            ]
          },
          "metadata": {
            "tags": []
          }
        },
        {
          "output_type": "display_data",
          "data": {
            "text/html": [
              "<pre>| 1         | 2        | 1.000778     | 0.847619          | 1.000000            |</pre>"
            ],
            "text/plain": [
              "| 1         | 2        | 1.000778     | 0.847619          | 1.000000            |"
            ]
          },
          "metadata": {
            "tags": []
          }
        },
        {
          "output_type": "display_data",
          "data": {
            "text/html": [
              "<pre>| 2         | 3        | 1.001561     | 0.942857          | 1.000000            |</pre>"
            ],
            "text/plain": [
              "| 2         | 3        | 1.001561     | 0.942857          | 1.000000            |"
            ]
          },
          "metadata": {
            "tags": []
          }
        },
        {
          "output_type": "display_data",
          "data": {
            "text/html": [
              "<pre>| 3         | 4        | 1.002053     | 0.961905          | 1.000000            |</pre>"
            ],
            "text/plain": [
              "| 3         | 4        | 1.002053     | 0.961905          | 1.000000            |"
            ]
          },
          "metadata": {
            "tags": []
          }
        },
        {
          "output_type": "display_data",
          "data": {
            "text/html": [
              "<pre>| 4         | 5        | 1.002587     | 0.961905          | 1.000000            |</pre>"
            ],
            "text/plain": [
              "| 4         | 5        | 1.002587     | 0.961905          | 1.000000            |"
            ]
          },
          "metadata": {
            "tags": []
          }
        },
        {
          "output_type": "display_data",
          "data": {
            "text/html": [
              "<pre>| 5         | 6        | 1.003080     | 0.961905          | 1.000000            |</pre>"
            ],
            "text/plain": [
              "| 5         | 6        | 1.003080     | 0.961905          | 1.000000            |"
            ]
          },
          "metadata": {
            "tags": []
          }
        },
        {
          "output_type": "display_data",
          "data": {
            "text/html": [
              "<pre>| 6         | 7        | 1.003555     | 0.961905          | 1.000000            |</pre>"
            ],
            "text/plain": [
              "| 6         | 7        | 1.003555     | 0.961905          | 1.000000            |"
            ]
          },
          "metadata": {
            "tags": []
          }
        },
        {
          "output_type": "display_data",
          "data": {
            "text/html": [
              "<pre>+-----------+----------+--------------+-------------------+---------------------+</pre>"
            ],
            "text/plain": [
              "+-----------+----------+--------------+-------------------+---------------------+"
            ]
          },
          "metadata": {
            "tags": []
          }
        },
        {
          "output_type": "display_data",
          "data": {
            "text/html": [
              "<pre>SUCCESS: Optimal solution found.</pre>"
            ],
            "text/plain": [
              "SUCCESS: Optimal solution found."
            ]
          },
          "metadata": {
            "tags": []
          }
        },
        {
          "output_type": "display_data",
          "data": {
            "text/html": [
              "<pre></pre>"
            ],
            "text/plain": [
              ""
            ]
          },
          "metadata": {
            "tags": []
          }
        },
        {
          "output_type": "stream",
          "text": [
            "Class                          : LogisticClassifier\n",
            "\n",
            "Schema\n",
            "------\n",
            "Number of coefficients         : 10\n",
            "Number of examples             : 105\n",
            "Number of classes              : 3\n",
            "Number of feature columns      : 4\n",
            "Number of unpacked features    : 4\n",
            "\n",
            "Hyperparameters\n",
            "---------------\n",
            "L1 penalty                     : 0.0\n",
            "L2 penalty                     : 0.01\n",
            "\n",
            "Training Summary\n",
            "----------------\n",
            "Solver                         : newton\n",
            "Solver iterations              : 6\n",
            "Solver status                  : SUCCESS: Optimal solution found.\n",
            "Training time (sec)            : 1.0038\n",
            "\n",
            "Settings\n",
            "--------\n",
            "Log-likelihood                 : 9.4364\n",
            "\n",
            "Highest Positive Coefficients\n",
            "-----------------------------\n",
            "petal_width                    : 10.8788\n",
            "petal_width                    : 3.9169\n",
            "petal_length                   : 3.3612\n",
            "petal_length                   : 1.132\n",
            "sepal_length                   : 0.4496\n",
            "\n",
            "Lowest Negative Coefficients\n",
            "----------------------------\n",
            "(intercept)                    : -23.2726\n",
            "(intercept)                    : -4.8663\n",
            "sepal_width                    : -1.7866\n",
            "sepal_width                    : -1.1937\n",
            "\n",
            "PREDICTIONS: \n",
            " +-------------+--------------------+\n",
            "|    class    |    probability     |\n",
            "+-------------+--------------------+\n",
            "| Iris-setosa | 0.9796925543293056 |\n",
            "| Iris-setosa | 0.9868503133764691 |\n",
            "| Iris-setosa | 0.9895176980149455 |\n",
            "| Iris-setosa | 0.9836483612962188 |\n",
            "| Iris-setosa | 0.9867824189932048 |\n",
            "| Iris-setosa | 0.992440095161126  |\n",
            "| Iris-setosa | 0.9925475217854067 |\n",
            "| Iris-setosa | 0.9857469112708974 |\n",
            "| Iris-setosa | 0.9643946985905677 |\n",
            "| Iris-setosa | 0.9620340088218478 |\n",
            "+-------------+--------------------+\n",
            "[39 rows x 2 columns]\n",
            "Note: Only the head of the SFrame is printed.\n",
            "You can use print_rows(num_rows=m, num_columns=n) to print more rows and columns.\n",
            "EVALUATION: \n",
            " {'accuracy': 0.9487179487179487, 'auc': 0.9999999999999999, 'confusion_matrix': Columns:\n",
            "\ttarget_label\tstr\n",
            "\tpredicted_label\tstr\n",
            "\tcount\tint\n",
            "\n",
            "Rows: 4\n",
            "\n",
            "Data:\n",
            "+-----------------+-----------------+-------+\n",
            "|   target_label  | predicted_label | count |\n",
            "+-----------------+-----------------+-------+\n",
            "| Iris-versicolor | Iris-versicolor |   12  |\n",
            "|   Iris-setosa   |   Iris-setosa   |   13  |\n",
            "|  Iris-virginica |  Iris-virginica |   12  |\n",
            "|  Iris-virginica | Iris-versicolor |   2   |\n",
            "+-----------------+-----------------+-------+\n",
            "[4 rows x 3 columns]\n",
            ", 'f1_score': 0.9487179487179486, 'log_loss': 0.11565066341429506, 'precision': 0.9523809523809524, 'recall': 0.9523809523809524, 'roc_curve': Columns:\n",
            "\tthreshold\tfloat\n",
            "\tfpr\tfloat\n",
            "\ttpr\tfloat\n",
            "\tp\tint\n",
            "\tn\tint\n",
            "\tclass\tint\n",
            "\n",
            "Rows: 300003\n",
            "\n",
            "Data:\n",
            "+-----------+--------------------+-----+----+----+-------+\n",
            "| threshold |        fpr         | tpr | p  | n  | class |\n",
            "+-----------+--------------------+-----+----+----+-------+\n",
            "|    0.0    |        1.0         | 1.0 | 13 | 26 |   0   |\n",
            "|   1e-05   | 0.7692307692307693 | 1.0 | 13 | 26 |   0   |\n",
            "|   2e-05   | 0.7307692307692307 | 1.0 | 13 | 26 |   0   |\n",
            "|   3e-05   | 0.7307692307692307 | 1.0 | 13 | 26 |   0   |\n",
            "|   4e-05   | 0.6538461538461539 | 1.0 | 13 | 26 |   0   |\n",
            "|   5e-05   | 0.6153846153846154 | 1.0 | 13 | 26 |   0   |\n",
            "|   6e-05   | 0.6153846153846154 | 1.0 | 13 | 26 |   0   |\n",
            "|   7e-05   | 0.6153846153846154 | 1.0 | 13 | 26 |   0   |\n",
            "|   8e-05   | 0.6153846153846154 | 1.0 | 13 | 26 |   0   |\n",
            "|   9e-05   | 0.6153846153846154 | 1.0 | 13 | 26 |   0   |\n",
            "+-----------+--------------------+-----+----+----+-------+\n",
            "[300003 rows x 6 columns]\n",
            "Note: Only the head of the SFrame is printed.\n",
            "You can use print_rows(num_rows=m, num_columns=n) to print more rows and columns.}\n",
            "\n",
            "Accuracy:  0.9487179487179487\n"
          ],
          "name": "stdout"
        }
      ]
    },
    {
      "cell_type": "code",
      "metadata": {
        "id": "F2VjXJJwgFu8",
        "colab_type": "code",
        "outputId": "6686fbb6-5413-42d8-8e52-059caaccfec8",
        "colab": {
          "base_uri": "https://localhost:8080/",
          "height": 1000
        }
      },
      "source": [
        "model_bt = tc.boosted_trees_classifier.create(train_Data, target='class', features=['sepal_length', 'sepal_width', 'petal_length', 'petal_width'])\n",
        "print(model_bt)\n",
        "\n",
        "predictions = model_bt.classify(test_Data)\n",
        "print('PREDICTIONS: \\n', predictions)\n",
        "\n",
        "results_bt = model_bt.evaluate(test_Data)\n",
        "print('EVALUATION: \\n', results_bt)\n",
        "\n",
        "print('\\nAccuracy: ', results_bt['accuracy'])"
      ],
      "execution_count": 10,
      "outputs": [
        {
          "output_type": "stream",
          "text": [
            "PROGRESS: Creating a validation set from 5 percent of training data. This may take a while.\n",
            "          You can set ``validation_set=None`` to disable validation tracking.\n",
            "\n"
          ],
          "name": "stdout"
        },
        {
          "output_type": "display_data",
          "data": {
            "text/html": [
              "<pre>Boosted trees classifier:</pre>"
            ],
            "text/plain": [
              "Boosted trees classifier:"
            ]
          },
          "metadata": {
            "tags": []
          }
        },
        {
          "output_type": "display_data",
          "data": {
            "text/html": [
              "<pre>--------------------------------------------------------</pre>"
            ],
            "text/plain": [
              "--------------------------------------------------------"
            ]
          },
          "metadata": {
            "tags": []
          }
        },
        {
          "output_type": "display_data",
          "data": {
            "text/html": [
              "<pre>Number of examples          : 105</pre>"
            ],
            "text/plain": [
              "Number of examples          : 105"
            ]
          },
          "metadata": {
            "tags": []
          }
        },
        {
          "output_type": "display_data",
          "data": {
            "text/html": [
              "<pre>Number of classes           : 3</pre>"
            ],
            "text/plain": [
              "Number of classes           : 3"
            ]
          },
          "metadata": {
            "tags": []
          }
        },
        {
          "output_type": "display_data",
          "data": {
            "text/html": [
              "<pre>Number of feature columns   : 4</pre>"
            ],
            "text/plain": [
              "Number of feature columns   : 4"
            ]
          },
          "metadata": {
            "tags": []
          }
        },
        {
          "output_type": "display_data",
          "data": {
            "text/html": [
              "<pre>Number of unpacked features : 4</pre>"
            ],
            "text/plain": [
              "Number of unpacked features : 4"
            ]
          },
          "metadata": {
            "tags": []
          }
        },
        {
          "output_type": "display_data",
          "data": {
            "text/html": [
              "<pre>+-----------+--------------+-------------------+---------------------+-------------------+---------------------+</pre>"
            ],
            "text/plain": [
              "+-----------+--------------+-------------------+---------------------+-------------------+---------------------+"
            ]
          },
          "metadata": {
            "tags": []
          }
        },
        {
          "output_type": "display_data",
          "data": {
            "text/html": [
              "<pre>| Iteration | Elapsed Time | Training Accuracy | Validation Accuracy | Training Log Loss | Validation Log Loss |</pre>"
            ],
            "text/plain": [
              "| Iteration | Elapsed Time | Training Accuracy | Validation Accuracy | Training Log Loss | Validation Log Loss |"
            ]
          },
          "metadata": {
            "tags": []
          }
        },
        {
          "output_type": "display_data",
          "data": {
            "text/html": [
              "<pre>+-----------+--------------+-------------------+---------------------+-------------------+---------------------+</pre>"
            ],
            "text/plain": [
              "+-----------+--------------+-------------------+---------------------+-------------------+---------------------+"
            ]
          },
          "metadata": {
            "tags": []
          }
        },
        {
          "output_type": "display_data",
          "data": {
            "text/html": [
              "<pre>| 1         | 0.007260     | 1.000000          | 1.000000            | 0.731443          | 0.721435            |</pre>"
            ],
            "text/plain": [
              "| 1         | 0.007260     | 1.000000          | 1.000000            | 0.731443          | 0.721435            |"
            ]
          },
          "metadata": {
            "tags": []
          }
        },
        {
          "output_type": "display_data",
          "data": {
            "text/html": [
              "<pre>| 2         | 0.012385     | 1.000000          | 1.000000            | 0.515340          | 0.501587            |</pre>"
            ],
            "text/plain": [
              "| 2         | 0.012385     | 1.000000          | 1.000000            | 0.515340          | 0.501587            |"
            ]
          },
          "metadata": {
            "tags": []
          }
        },
        {
          "output_type": "display_data",
          "data": {
            "text/html": [
              "<pre>| 3         | 0.018750     | 1.000000          | 1.000000            | 0.374069          | 0.359121            |</pre>"
            ],
            "text/plain": [
              "| 3         | 0.018750     | 1.000000          | 1.000000            | 0.374069          | 0.359121            |"
            ]
          },
          "metadata": {
            "tags": []
          }
        },
        {
          "output_type": "display_data",
          "data": {
            "text/html": [
              "<pre>| 4         | 0.023343     | 1.000000          | 1.000000            | 0.277035          | 0.262033            |</pre>"
            ],
            "text/plain": [
              "| 4         | 0.023343     | 1.000000          | 1.000000            | 0.277035          | 0.262033            |"
            ]
          },
          "metadata": {
            "tags": []
          }
        },
        {
          "output_type": "display_data",
          "data": {
            "text/html": [
              "<pre>| 5         | 0.028881     | 1.000000          | 1.000000            | 0.208404          | 0.193923            |</pre>"
            ],
            "text/plain": [
              "| 5         | 0.028881     | 1.000000          | 1.000000            | 0.208404          | 0.193923            |"
            ]
          },
          "metadata": {
            "tags": []
          }
        },
        {
          "output_type": "display_data",
          "data": {
            "text/html": [
              "<pre>| 10        | 0.044942     | 1.000000          | 1.000000            | 0.061933          | 0.051369            |</pre>"
            ],
            "text/plain": [
              "| 10        | 0.044942     | 1.000000          | 1.000000            | 0.061933          | 0.051369            |"
            ]
          },
          "metadata": {
            "tags": []
          }
        },
        {
          "output_type": "display_data",
          "data": {
            "text/html": [
              "<pre>+-----------+--------------+-------------------+---------------------+-------------------+---------------------+</pre>"
            ],
            "text/plain": [
              "+-----------+--------------+-------------------+---------------------+-------------------+---------------------+"
            ]
          },
          "metadata": {
            "tags": []
          }
        },
        {
          "output_type": "stream",
          "text": [
            "Class                          : BoostedTreesClassifier\n",
            "\n",
            "Schema\n",
            "------\n",
            "Number of examples             : 105\n",
            "Number of feature columns      : 4\n",
            "Number of unpacked features    : 4\n",
            "Number of classes              : 3\n",
            "\n",
            "Settings\n",
            "--------\n",
            "Number of trees                : 30\n",
            "Max tree depth                 : 6\n",
            "Training time (sec)            : 0.0483\n",
            "Training accuracy              : 1.0\n",
            "Validation accuracy            : 1.0\n",
            "Training log_loss              : 0.0619\n",
            "Validation log_loss            : 0.0514\n",
            "Training auc                   : 1.0\n",
            "Validation auc                 : 1.0\n",
            "\n",
            "PREDICTIONS: \n",
            " +-------------+--------------------+\n",
            "|    class    |    probability     |\n",
            "+-------------+--------------------+\n",
            "| Iris-setosa | 0.9488701224327087 |\n",
            "| Iris-setosa | 0.9488701224327087 |\n",
            "| Iris-setosa | 0.9488701224327087 |\n",
            "| Iris-setosa | 0.9488701224327087 |\n",
            "| Iris-setosa | 0.9488701224327087 |\n",
            "| Iris-setosa | 0.9488701224327087 |\n",
            "| Iris-setosa | 0.9488701224327087 |\n",
            "| Iris-setosa | 0.9488701224327087 |\n",
            "| Iris-setosa | 0.9488701224327087 |\n",
            "| Iris-setosa | 0.9488701224327087 |\n",
            "+-------------+--------------------+\n",
            "[39 rows x 2 columns]\n",
            "Note: Only the head of the SFrame is printed.\n",
            "You can use print_rows(num_rows=m, num_columns=n) to print more rows and columns.\n",
            "EVALUATION: \n",
            " {'accuracy': 0.8974358974358975, 'auc': 0.9861316872427984, 'confusion_matrix': Columns:\n",
            "\ttarget_label\tstr\n",
            "\tpredicted_label\tstr\n",
            "\tcount\tint\n",
            "\n",
            "Rows: 4\n",
            "\n",
            "Data:\n",
            "+-----------------+-----------------+-------+\n",
            "|   target_label  | predicted_label | count |\n",
            "+-----------------+-----------------+-------+\n",
            "| Iris-versicolor | Iris-versicolor |   12  |\n",
            "|   Iris-setosa   |   Iris-setosa   |   13  |\n",
            "|  Iris-virginica |  Iris-virginica |   10  |\n",
            "|  Iris-virginica | Iris-versicolor |   4   |\n",
            "+-----------------+-----------------+-------+\n",
            "[4 rows x 3 columns]\n",
            ", 'f1_score': 0.8968253968253967, 'log_loss': 0.22770633301787113, 'precision': 0.9166666666666666, 'recall': 0.9047619047619048, 'roc_curve': Columns:\n",
            "\tthreshold\tfloat\n",
            "\tfpr\tfloat\n",
            "\ttpr\tfloat\n",
            "\tp\tint\n",
            "\tn\tint\n",
            "\tclass\tint\n",
            "\n",
            "Rows: 300003\n",
            "\n",
            "Data:\n",
            "+-----------+-----+-----+----+----+-------+\n",
            "| threshold | fpr | tpr | p  | n  | class |\n",
            "+-----------+-----+-----+----+----+-------+\n",
            "|    0.0    | 1.0 | 1.0 | 13 | 26 |   0   |\n",
            "|   1e-05   | 1.0 | 1.0 | 13 | 26 |   0   |\n",
            "|   2e-05   | 1.0 | 1.0 | 13 | 26 |   0   |\n",
            "|   3e-05   | 1.0 | 1.0 | 13 | 26 |   0   |\n",
            "|   4e-05   | 1.0 | 1.0 | 13 | 26 |   0   |\n",
            "|   5e-05   | 1.0 | 1.0 | 13 | 26 |   0   |\n",
            "|   6e-05   | 1.0 | 1.0 | 13 | 26 |   0   |\n",
            "|   7e-05   | 1.0 | 1.0 | 13 | 26 |   0   |\n",
            "|   8e-05   | 1.0 | 1.0 | 13 | 26 |   0   |\n",
            "|   9e-05   | 1.0 | 1.0 | 13 | 26 |   0   |\n",
            "+-----------+-----+-----+----+----+-------+\n",
            "[300003 rows x 6 columns]\n",
            "Note: Only the head of the SFrame is printed.\n",
            "You can use print_rows(num_rows=m, num_columns=n) to print more rows and columns.}\n",
            "\n",
            "Accuracy:  0.8974358974358975\n"
          ],
          "name": "stdout"
        }
      ]
    },
    {
      "cell_type": "code",
      "metadata": {
        "id": "WqTuTGYnpKhL",
        "colab_type": "code",
        "outputId": "164fc6ae-8644-41f6-def2-baffeb13de50",
        "colab": {
          "base_uri": "https://localhost:8080/",
          "height": 1000
        }
      },
      "source": [
        "model_dt = tc.decision_tree_classifier.create(train_Data, target='class', features = ['sepal_length', 'sepal_width', 'petal_length', 'petal_width'])\n",
        "print(model_dt)\n",
        "\n",
        "predictions = model_dt.classify(test_Data)\n",
        "print('PREDICTIONS: \\n', predictions)\n",
        "\n",
        "results_dt = model_dt.evaluate(test_Data)\n",
        "print('EVALUATION: \\n', results_dt)\n",
        "\n",
        "print('\\nAccuracy: ', results_dt['accuracy'])"
      ],
      "execution_count": 11,
      "outputs": [
        {
          "output_type": "stream",
          "text": [
            "PROGRESS: Creating a validation set from 5 percent of training data. This may take a while.\n",
            "          You can set ``validation_set=None`` to disable validation tracking.\n",
            "\n"
          ],
          "name": "stdout"
        },
        {
          "output_type": "display_data",
          "data": {
            "text/html": [
              "<pre>Decision tree classifier:</pre>"
            ],
            "text/plain": [
              "Decision tree classifier:"
            ]
          },
          "metadata": {
            "tags": []
          }
        },
        {
          "output_type": "display_data",
          "data": {
            "text/html": [
              "<pre>--------------------------------------------------------</pre>"
            ],
            "text/plain": [
              "--------------------------------------------------------"
            ]
          },
          "metadata": {
            "tags": []
          }
        },
        {
          "output_type": "display_data",
          "data": {
            "text/html": [
              "<pre>Number of examples          : 105</pre>"
            ],
            "text/plain": [
              "Number of examples          : 105"
            ]
          },
          "metadata": {
            "tags": []
          }
        },
        {
          "output_type": "display_data",
          "data": {
            "text/html": [
              "<pre>Number of classes           : 3</pre>"
            ],
            "text/plain": [
              "Number of classes           : 3"
            ]
          },
          "metadata": {
            "tags": []
          }
        },
        {
          "output_type": "display_data",
          "data": {
            "text/html": [
              "<pre>Number of feature columns   : 4</pre>"
            ],
            "text/plain": [
              "Number of feature columns   : 4"
            ]
          },
          "metadata": {
            "tags": []
          }
        },
        {
          "output_type": "display_data",
          "data": {
            "text/html": [
              "<pre>Number of unpacked features : 4</pre>"
            ],
            "text/plain": [
              "Number of unpacked features : 4"
            ]
          },
          "metadata": {
            "tags": []
          }
        },
        {
          "output_type": "display_data",
          "data": {
            "text/html": [
              "<pre>+-----------+--------------+-------------------+---------------------+-------------------+---------------------+</pre>"
            ],
            "text/plain": [
              "+-----------+--------------+-------------------+---------------------+-------------------+---------------------+"
            ]
          },
          "metadata": {
            "tags": []
          }
        },
        {
          "output_type": "display_data",
          "data": {
            "text/html": [
              "<pre>| Iteration | Elapsed Time | Training Accuracy | Validation Accuracy | Training Log Loss | Validation Log Loss |</pre>"
            ],
            "text/plain": [
              "| Iteration | Elapsed Time | Training Accuracy | Validation Accuracy | Training Log Loss | Validation Log Loss |"
            ]
          },
          "metadata": {
            "tags": []
          }
        },
        {
          "output_type": "display_data",
          "data": {
            "text/html": [
              "<pre>+-----------+--------------+-------------------+---------------------+-------------------+---------------------+</pre>"
            ],
            "text/plain": [
              "+-----------+--------------+-------------------+---------------------+-------------------+---------------------+"
            ]
          },
          "metadata": {
            "tags": []
          }
        },
        {
          "output_type": "display_data",
          "data": {
            "text/html": [
              "<pre>| 1         | 0.007351     | 1.000000          | 1.000000            | 0.231776          | 0.216680            |</pre>"
            ],
            "text/plain": [
              "| 1         | 0.007351     | 1.000000          | 1.000000            | 0.231776          | 0.216680            |"
            ]
          },
          "metadata": {
            "tags": []
          }
        },
        {
          "output_type": "display_data",
          "data": {
            "text/html": [
              "<pre>+-----------+--------------+-------------------+---------------------+-------------------+---------------------+</pre>"
            ],
            "text/plain": [
              "+-----------+--------------+-------------------+---------------------+-------------------+---------------------+"
            ]
          },
          "metadata": {
            "tags": []
          }
        },
        {
          "output_type": "stream",
          "text": [
            "Class                          : DecisionTreeClassifier\n",
            "\n",
            "Schema\n",
            "------\n",
            "Number of examples             : 105\n",
            "Number of feature columns      : 4\n",
            "Number of unpacked features    : 4\n",
            "Number of classes              : 3\n",
            "\n",
            "Settings\n",
            "--------\n",
            "Number of trees                : 3\n",
            "Max tree depth                 : 6\n",
            "Training time (sec)            : 0.0108\n",
            "Training accuracy              : 1.0\n",
            "Validation accuracy            : 1.0\n",
            "Training log_loss              : 0.2318\n",
            "Validation log_loss            : 0.2167\n",
            "Training auc                   : 1.0\n",
            "Validation auc                 : 1.0\n",
            "\n",
            "PREDICTIONS: \n",
            " +-------------+--------------------+\n",
            "|    class    |    probability     |\n",
            "+-------------+--------------------+\n",
            "| Iris-setosa | 0.8076522350311279 |\n",
            "| Iris-setosa | 0.8076522350311279 |\n",
            "| Iris-setosa | 0.8076522350311279 |\n",
            "| Iris-setosa | 0.8076522350311279 |\n",
            "| Iris-setosa | 0.8076522350311279 |\n",
            "| Iris-setosa | 0.8076522350311279 |\n",
            "| Iris-setosa | 0.8076522350311279 |\n",
            "| Iris-setosa | 0.8076522350311279 |\n",
            "| Iris-setosa | 0.8076522350311279 |\n",
            "| Iris-setosa | 0.8076522350311279 |\n",
            "+-------------+--------------------+\n",
            "[39 rows x 2 columns]\n",
            "Note: Only the head of the SFrame is printed.\n",
            "You can use print_rows(num_rows=m, num_columns=n) to print more rows and columns.\n",
            "EVALUATION: \n",
            " {'accuracy': 0.8974358974358975, 'auc': 0.9841504997060553, 'confusion_matrix': Columns:\n",
            "\ttarget_label\tstr\n",
            "\tpredicted_label\tstr\n",
            "\tcount\tint\n",
            "\n",
            "Rows: 4\n",
            "\n",
            "Data:\n",
            "+-----------------+-----------------+-------+\n",
            "|   target_label  | predicted_label | count |\n",
            "+-----------------+-----------------+-------+\n",
            "| Iris-versicolor | Iris-versicolor |   12  |\n",
            "|   Iris-setosa   |   Iris-setosa   |   13  |\n",
            "|  Iris-virginica |  Iris-virginica |   10  |\n",
            "|  Iris-virginica | Iris-versicolor |   4   |\n",
            "+-----------------+-----------------+-------+\n",
            "[4 rows x 3 columns]\n",
            ", 'f1_score': 0.8968253968253967, 'log_loss': 0.3811016722546129, 'precision': 0.9166666666666666, 'recall': 0.9047619047619048, 'roc_curve': Columns:\n",
            "\tthreshold\tfloat\n",
            "\tfpr\tfloat\n",
            "\ttpr\tfloat\n",
            "\tp\tint\n",
            "\tn\tint\n",
            "\tclass\tint\n",
            "\n",
            "Rows: 300003\n",
            "\n",
            "Data:\n",
            "+-----------+-----+-----+----+----+-------+\n",
            "| threshold | fpr | tpr | p  | n  | class |\n",
            "+-----------+-----+-----+----+----+-------+\n",
            "|    0.0    | 1.0 | 1.0 | 13 | 26 |   0   |\n",
            "|   1e-05   | 1.0 | 1.0 | 13 | 26 |   0   |\n",
            "|   2e-05   | 1.0 | 1.0 | 13 | 26 |   0   |\n",
            "|   3e-05   | 1.0 | 1.0 | 13 | 26 |   0   |\n",
            "|   4e-05   | 1.0 | 1.0 | 13 | 26 |   0   |\n",
            "|   5e-05   | 1.0 | 1.0 | 13 | 26 |   0   |\n",
            "|   6e-05   | 1.0 | 1.0 | 13 | 26 |   0   |\n",
            "|   7e-05   | 1.0 | 1.0 | 13 | 26 |   0   |\n",
            "|   8e-05   | 1.0 | 1.0 | 13 | 26 |   0   |\n",
            "|   9e-05   | 1.0 | 1.0 | 13 | 26 |   0   |\n",
            "+-----------+-----+-----+----+----+-------+\n",
            "[300003 rows x 6 columns]\n",
            "Note: Only the head of the SFrame is printed.\n",
            "You can use print_rows(num_rows=m, num_columns=n) to print more rows and columns.}\n",
            "\n",
            "Accuracy:  0.8974358974358975\n"
          ],
          "name": "stdout"
        }
      ]
    },
    {
      "cell_type": "code",
      "metadata": {
        "id": "WDbx7DSPRz5y",
        "colab_type": "code",
        "outputId": "aed91f3a-ab2e-4878-8e91-33bee6a3160d",
        "colab": {
          "base_uri": "https://localhost:8080/",
          "height": 1000
        }
      },
      "source": [
        "model_nn = tc.nearest_neighbor_classifier.create(train_Data, target='class', features = ['sepal_length', 'sepal_width', 'petal_length', 'petal_width'])\n",
        "print(model_nn)\n",
        "\n",
        "predictions = model_nn.classify(test_Data)\n",
        "print('PREDICTIONS: \\n', predictions)\n",
        "\n",
        "results_nn = model_nn.evaluate(test_Data)\n",
        "print('EVALUATION: \\n', results_nn)\n",
        "\n",
        "print('\\nAccuracy: ', results_nn['accuracy'])"
      ],
      "execution_count": 12,
      "outputs": [
        {
          "output_type": "display_data",
          "data": {
            "text/html": [
              "<pre>Starting ball tree nearest neighbors model training.</pre>"
            ],
            "text/plain": [
              "Starting ball tree nearest neighbors model training."
            ]
          },
          "metadata": {
            "tags": []
          }
        },
        {
          "output_type": "display_data",
          "data": {
            "text/html": [
              "<pre>+------------+--------------+</pre>"
            ],
            "text/plain": [
              "+------------+--------------+"
            ]
          },
          "metadata": {
            "tags": []
          }
        },
        {
          "output_type": "display_data",
          "data": {
            "text/html": [
              "<pre>| Tree level | Elapsed Time |</pre>"
            ],
            "text/plain": [
              "| Tree level | Elapsed Time |"
            ]
          },
          "metadata": {
            "tags": []
          }
        },
        {
          "output_type": "display_data",
          "data": {
            "text/html": [
              "<pre>+------------+--------------+</pre>"
            ],
            "text/plain": [
              "+------------+--------------+"
            ]
          },
          "metadata": {
            "tags": []
          }
        },
        {
          "output_type": "display_data",
          "data": {
            "text/html": [
              "<pre>| 0          | 121us        |</pre>"
            ],
            "text/plain": [
              "| 0          | 121us        |"
            ]
          },
          "metadata": {
            "tags": []
          }
        },
        {
          "output_type": "display_data",
          "data": {
            "text/html": [
              "<pre>+------------+--------------+</pre>"
            ],
            "text/plain": [
              "+------------+--------------+"
            ]
          },
          "metadata": {
            "tags": []
          }
        },
        {
          "output_type": "stream",
          "text": [
            "Class                                : NearestNeighborClassifier\n",
            "\n",
            "Schema\n",
            "------\n",
            "Number of examples                   : 111\n",
            "Number of feature columns            : 4\n",
            "Number of unpacked features          : 4\n",
            "Number of distance components        : 1\n",
            "Number of classes                    : 3\n",
            "\n",
            "Training Summary\n",
            "----------------\n",
            "Training time (seconds)              : 0.4869\n",
            "\n"
          ],
          "name": "stdout"
        },
        {
          "output_type": "display_data",
          "data": {
            "text/html": [
              "<pre>+--------------+-------------+--------------+</pre>"
            ],
            "text/plain": [
              "+--------------+-------------+--------------+"
            ]
          },
          "metadata": {
            "tags": []
          }
        },
        {
          "output_type": "display_data",
          "data": {
            "text/html": [
              "<pre>| Query points | % Complete. | Elapsed Time |</pre>"
            ],
            "text/plain": [
              "| Query points | % Complete. | Elapsed Time |"
            ]
          },
          "metadata": {
            "tags": []
          }
        },
        {
          "output_type": "display_data",
          "data": {
            "text/html": [
              "<pre>+--------------+-------------+--------------+</pre>"
            ],
            "text/plain": [
              "+--------------+-------------+--------------+"
            ]
          },
          "metadata": {
            "tags": []
          }
        },
        {
          "output_type": "display_data",
          "data": {
            "text/html": [
              "<pre>| 1            | 2.5         | 175us        |</pre>"
            ],
            "text/plain": [
              "| 1            | 2.5         | 175us        |"
            ]
          },
          "metadata": {
            "tags": []
          }
        },
        {
          "output_type": "display_data",
          "data": {
            "text/html": [
              "<pre>| Done         |             | 636us        |</pre>"
            ],
            "text/plain": [
              "| Done         |             | 636us        |"
            ]
          },
          "metadata": {
            "tags": []
          }
        },
        {
          "output_type": "display_data",
          "data": {
            "text/html": [
              "<pre>+--------------+-------------+--------------+</pre>"
            ],
            "text/plain": [
              "+--------------+-------------+--------------+"
            ]
          },
          "metadata": {
            "tags": []
          }
        },
        {
          "output_type": "stream",
          "text": [
            "PREDICTIONS: \n",
            " +-------------+-------------+\n",
            "|    class    | probability |\n",
            "+-------------+-------------+\n",
            "| Iris-setosa |     1.0     |\n",
            "| Iris-setosa |     1.0     |\n",
            "| Iris-setosa |     1.0     |\n",
            "| Iris-setosa |     1.0     |\n",
            "| Iris-setosa |     1.0     |\n",
            "| Iris-setosa |     1.0     |\n",
            "| Iris-setosa |     1.0     |\n",
            "| Iris-setosa |     1.0     |\n",
            "| Iris-setosa |     1.0     |\n",
            "| Iris-setosa |     1.0     |\n",
            "+-------------+-------------+\n",
            "[39 rows x 2 columns]\n",
            "Note: Only the head of the SFrame is printed.\n",
            "You can use print_rows(num_rows=m, num_columns=n) to print more rows and columns.\n",
            "WARNING: Ignoring `roc_curve`. Not supported for multi-class classification.\n"
          ],
          "name": "stdout"
        },
        {
          "output_type": "display_data",
          "data": {
            "text/html": [
              "<pre>+--------------+-------------+--------------+</pre>"
            ],
            "text/plain": [
              "+--------------+-------------+--------------+"
            ]
          },
          "metadata": {
            "tags": []
          }
        },
        {
          "output_type": "display_data",
          "data": {
            "text/html": [
              "<pre>| Query points | % Complete. | Elapsed Time |</pre>"
            ],
            "text/plain": [
              "| Query points | % Complete. | Elapsed Time |"
            ]
          },
          "metadata": {
            "tags": []
          }
        },
        {
          "output_type": "display_data",
          "data": {
            "text/html": [
              "<pre>+--------------+-------------+--------------+</pre>"
            ],
            "text/plain": [
              "+--------------+-------------+--------------+"
            ]
          },
          "metadata": {
            "tags": []
          }
        },
        {
          "output_type": "display_data",
          "data": {
            "text/html": [
              "<pre>| 1            | 2.5         | 143us        |</pre>"
            ],
            "text/plain": [
              "| 1            | 2.5         | 143us        |"
            ]
          },
          "metadata": {
            "tags": []
          }
        },
        {
          "output_type": "display_data",
          "data": {
            "text/html": [
              "<pre>| Done         |             | 741us        |</pre>"
            ],
            "text/plain": [
              "| Done         |             | 741us        |"
            ]
          },
          "metadata": {
            "tags": []
          }
        },
        {
          "output_type": "display_data",
          "data": {
            "text/html": [
              "<pre>+--------------+-------------+--------------+</pre>"
            ],
            "text/plain": [
              "+--------------+-------------+--------------+"
            ]
          },
          "metadata": {
            "tags": []
          }
        },
        {
          "output_type": "display_data",
          "data": {
            "text/html": [
              "<pre>+--------------+-------------+--------------+</pre>"
            ],
            "text/plain": [
              "+--------------+-------------+--------------+"
            ]
          },
          "metadata": {
            "tags": []
          }
        },
        {
          "output_type": "display_data",
          "data": {
            "text/html": [
              "<pre>| Query points | % Complete. | Elapsed Time |</pre>"
            ],
            "text/plain": [
              "| Query points | % Complete. | Elapsed Time |"
            ]
          },
          "metadata": {
            "tags": []
          }
        },
        {
          "output_type": "display_data",
          "data": {
            "text/html": [
              "<pre>+--------------+-------------+--------------+</pre>"
            ],
            "text/plain": [
              "+--------------+-------------+--------------+"
            ]
          },
          "metadata": {
            "tags": []
          }
        },
        {
          "output_type": "display_data",
          "data": {
            "text/html": [
              "<pre>| 1            | 2.5         | 443us        |</pre>"
            ],
            "text/plain": [
              "| 1            | 2.5         | 443us        |"
            ]
          },
          "metadata": {
            "tags": []
          }
        },
        {
          "output_type": "display_data",
          "data": {
            "text/html": [
              "<pre>| Done         |             | 1.264ms      |</pre>"
            ],
            "text/plain": [
              "| Done         |             | 1.264ms      |"
            ]
          },
          "metadata": {
            "tags": []
          }
        },
        {
          "output_type": "display_data",
          "data": {
            "text/html": [
              "<pre>+--------------+-------------+--------------+</pre>"
            ],
            "text/plain": [
              "+--------------+-------------+--------------+"
            ]
          },
          "metadata": {
            "tags": []
          }
        },
        {
          "output_type": "stream",
          "text": [
            "EVALUATION: \n",
            " {'accuracy': 0.9743589743589743, 'confusion_matrix': Columns:\n",
            "\ttarget_label\tstr\n",
            "\tpredicted_label\tstr\n",
            "\tcount\tint\n",
            "\n",
            "Rows: 4\n",
            "\n",
            "Data:\n",
            "+-----------------+-----------------+-------+\n",
            "|   target_label  | predicted_label | count |\n",
            "+-----------------+-----------------+-------+\n",
            "|   Iris-setosa   |   Iris-setosa   |   13  |\n",
            "| Iris-versicolor | Iris-versicolor |   12  |\n",
            "|  Iris-virginica |  Iris-virginica |   13  |\n",
            "|  Iris-virginica | Iris-versicolor |   1   |\n",
            "+-----------------+-----------------+-------+\n",
            "[4 rows x 3 columns]\n",
            "}\n",
            "\n",
            "Accuracy:  0.9743589743589743\n"
          ],
          "name": "stdout"
        }
      ]
    },
    {
      "cell_type": "code",
      "metadata": {
        "id": "dqWF_QHWyoTl",
        "colab_type": "code",
        "outputId": "e839ebc1-30a5-4037-a59f-b18e8c24e67d",
        "colab": {
          "base_uri": "https://localhost:8080/",
          "height": 1000
        }
      },
      "source": [
        "model_rf = tc.random_forest_classifier.create(train_Data, target='class', features=['sepal_length', 'sepal_width', 'petal_length', 'petal_width'])\n",
        "print(model_rf)\n",
        "\n",
        "predictions = model_rf.classify(test_Data)\n",
        "print('PREDICTIONS: \\n', predictions)\n",
        "\n",
        "results_rf = model_rf.evaluate(test_Data)\n",
        "print('EVALUATION: \\n', results_rf)\n",
        "\n",
        "print('\\nAccuracy: ', results_rf['accuracy'])"
      ],
      "execution_count": 13,
      "outputs": [
        {
          "output_type": "stream",
          "text": [
            "PROGRESS: Creating a validation set from 5 percent of training data. This may take a while.\n",
            "          You can set ``validation_set=None`` to disable validation tracking.\n",
            "\n"
          ],
          "name": "stdout"
        },
        {
          "output_type": "display_data",
          "data": {
            "text/html": [
              "<pre>Random forest classifier:</pre>"
            ],
            "text/plain": [
              "Random forest classifier:"
            ]
          },
          "metadata": {
            "tags": []
          }
        },
        {
          "output_type": "display_data",
          "data": {
            "text/html": [
              "<pre>--------------------------------------------------------</pre>"
            ],
            "text/plain": [
              "--------------------------------------------------------"
            ]
          },
          "metadata": {
            "tags": []
          }
        },
        {
          "output_type": "display_data",
          "data": {
            "text/html": [
              "<pre>Number of examples          : 105</pre>"
            ],
            "text/plain": [
              "Number of examples          : 105"
            ]
          },
          "metadata": {
            "tags": []
          }
        },
        {
          "output_type": "display_data",
          "data": {
            "text/html": [
              "<pre>Number of classes           : 3</pre>"
            ],
            "text/plain": [
              "Number of classes           : 3"
            ]
          },
          "metadata": {
            "tags": []
          }
        },
        {
          "output_type": "display_data",
          "data": {
            "text/html": [
              "<pre>Number of feature columns   : 4</pre>"
            ],
            "text/plain": [
              "Number of feature columns   : 4"
            ]
          },
          "metadata": {
            "tags": []
          }
        },
        {
          "output_type": "display_data",
          "data": {
            "text/html": [
              "<pre>Number of unpacked features : 4</pre>"
            ],
            "text/plain": [
              "Number of unpacked features : 4"
            ]
          },
          "metadata": {
            "tags": []
          }
        },
        {
          "output_type": "display_data",
          "data": {
            "text/html": [
              "<pre>+-----------+--------------+-------------------+---------------------+-------------------+---------------------+</pre>"
            ],
            "text/plain": [
              "+-----------+--------------+-------------------+---------------------+-------------------+---------------------+"
            ]
          },
          "metadata": {
            "tags": []
          }
        },
        {
          "output_type": "display_data",
          "data": {
            "text/html": [
              "<pre>| Iteration | Elapsed Time | Training Accuracy | Validation Accuracy | Training Log Loss | Validation Log Loss |</pre>"
            ],
            "text/plain": [
              "| Iteration | Elapsed Time | Training Accuracy | Validation Accuracy | Training Log Loss | Validation Log Loss |"
            ]
          },
          "metadata": {
            "tags": []
          }
        },
        {
          "output_type": "display_data",
          "data": {
            "text/html": [
              "<pre>+-----------+--------------+-------------------+---------------------+-------------------+---------------------+</pre>"
            ],
            "text/plain": [
              "+-----------+--------------+-------------------+---------------------+-------------------+---------------------+"
            ]
          },
          "metadata": {
            "tags": []
          }
        },
        {
          "output_type": "display_data",
          "data": {
            "text/html": [
              "<pre>| 1         | 0.013719     | 0.990476          | 1.000000            | 0.255393          | 0.219127            |</pre>"
            ],
            "text/plain": [
              "| 1         | 0.013719     | 0.990476          | 1.000000            | 0.255393          | 0.219127            |"
            ]
          },
          "metadata": {
            "tags": []
          }
        },
        {
          "output_type": "display_data",
          "data": {
            "text/html": [
              "<pre>| 2         | 0.018316     | 0.980952          | 1.000000            | 0.256954          | 0.222922            |</pre>"
            ],
            "text/plain": [
              "| 2         | 0.018316     | 0.980952          | 1.000000            | 0.256954          | 0.222922            |"
            ]
          },
          "metadata": {
            "tags": []
          }
        },
        {
          "output_type": "display_data",
          "data": {
            "text/html": [
              "<pre>| 3         | 0.023467     | 0.971429          | 1.000000            | 0.258795          | 0.222276            |</pre>"
            ],
            "text/plain": [
              "| 3         | 0.023467     | 0.971429          | 1.000000            | 0.258795          | 0.222276            |"
            ]
          },
          "metadata": {
            "tags": []
          }
        },
        {
          "output_type": "display_data",
          "data": {
            "text/html": [
              "<pre>| 4         | 0.039305     | 1.000000          | 1.000000            | 0.251693          | 0.221268            |</pre>"
            ],
            "text/plain": [
              "| 4         | 0.039305     | 1.000000          | 1.000000            | 0.251693          | 0.221268            |"
            ]
          },
          "metadata": {
            "tags": []
          }
        },
        {
          "output_type": "display_data",
          "data": {
            "text/html": [
              "<pre>| 5         | 0.044188     | 0.980952          | 1.000000            | 0.253413          | 0.221674            |</pre>"
            ],
            "text/plain": [
              "| 5         | 0.044188     | 0.980952          | 1.000000            | 0.253413          | 0.221674            |"
            ]
          },
          "metadata": {
            "tags": []
          }
        },
        {
          "output_type": "display_data",
          "data": {
            "text/html": [
              "<pre>| 10        | 0.057090     | 1.000000          | 1.000000            | 0.252311          | 0.222781            |</pre>"
            ],
            "text/plain": [
              "| 10        | 0.057090     | 1.000000          | 1.000000            | 0.252311          | 0.222781            |"
            ]
          },
          "metadata": {
            "tags": []
          }
        },
        {
          "output_type": "display_data",
          "data": {
            "text/html": [
              "<pre>+-----------+--------------+-------------------+---------------------+-------------------+---------------------+</pre>"
            ],
            "text/plain": [
              "+-----------+--------------+-------------------+---------------------+-------------------+---------------------+"
            ]
          },
          "metadata": {
            "tags": []
          }
        },
        {
          "output_type": "stream",
          "text": [
            "Class                          : RandomForestClassifier\n",
            "\n",
            "Schema\n",
            "------\n",
            "Number of examples             : 105\n",
            "Number of feature columns      : 4\n",
            "Number of unpacked features    : 4\n",
            "Number of classes              : 3\n",
            "\n",
            "Settings\n",
            "--------\n",
            "Number of trees                : 30\n",
            "Max tree depth                 : 6\n",
            "Training time (sec)            : 0.0575\n",
            "Training accuracy              : 1.0\n",
            "Validation accuracy            : 1.0\n",
            "Training log_loss              : 0.2523\n",
            "Validation log_loss            : 0.2228\n",
            "Training auc                   : 0.9999\n",
            "Validation auc                 : 1.0\n",
            "\n",
            "PREDICTIONS: \n",
            " +-------------+--------------------+\n",
            "|    class    |    probability     |\n",
            "+-------------+--------------------+\n",
            "| Iris-setosa | 0.8028064370155334 |\n",
            "| Iris-setosa | 0.8028064370155334 |\n",
            "| Iris-setosa | 0.8028064370155334 |\n",
            "| Iris-setosa | 0.8028064370155334 |\n",
            "| Iris-setosa | 0.8028064370155334 |\n",
            "| Iris-setosa | 0.8028064370155334 |\n",
            "| Iris-setosa | 0.8028064370155334 |\n",
            "| Iris-setosa | 0.8028064370155334 |\n",
            "| Iris-setosa | 0.8028064370155334 |\n",
            "| Iris-setosa | 0.8028064370155334 |\n",
            "+-------------+--------------------+\n",
            "[39 rows x 2 columns]\n",
            "Note: Only the head of the SFrame is printed.\n",
            "You can use print_rows(num_rows=m, num_columns=n) to print more rows and columns.\n",
            "EVALUATION: \n",
            " {'accuracy': 0.8974358974358975, 'auc': 0.9881128747795415, 'confusion_matrix': Columns:\n",
            "\ttarget_label\tstr\n",
            "\tpredicted_label\tstr\n",
            "\tcount\tint\n",
            "\n",
            "Rows: 5\n",
            "\n",
            "Data:\n",
            "+-----------------+-----------------+-------+\n",
            "|   target_label  | predicted_label | count |\n",
            "+-----------------+-----------------+-------+\n",
            "| Iris-versicolor | Iris-versicolor |   11  |\n",
            "|   Iris-setosa   |   Iris-setosa   |   13  |\n",
            "|  Iris-virginica |  Iris-virginica |   11  |\n",
            "|  Iris-virginica | Iris-versicolor |   3   |\n",
            "| Iris-versicolor |  Iris-virginica |   1   |\n",
            "+-----------------+-----------------+-------+\n",
            "[5 rows x 3 columns]\n",
            ", 'f1_score': 0.8974358974358975, 'log_loss': 0.36439900427087846, 'precision': 0.9007936507936508, 'recall': 0.9007936507936508, 'roc_curve': Columns:\n",
            "\tthreshold\tfloat\n",
            "\tfpr\tfloat\n",
            "\ttpr\tfloat\n",
            "\tp\tint\n",
            "\tn\tint\n",
            "\tclass\tint\n",
            "\n",
            "Rows: 300003\n",
            "\n",
            "Data:\n",
            "+-----------+-----+-----+----+----+-------+\n",
            "| threshold | fpr | tpr | p  | n  | class |\n",
            "+-----------+-----+-----+----+----+-------+\n",
            "|    0.0    | 1.0 | 1.0 | 13 | 26 |   0   |\n",
            "|   1e-05   | 1.0 | 1.0 | 13 | 26 |   0   |\n",
            "|   2e-05   | 1.0 | 1.0 | 13 | 26 |   0   |\n",
            "|   3e-05   | 1.0 | 1.0 | 13 | 26 |   0   |\n",
            "|   4e-05   | 1.0 | 1.0 | 13 | 26 |   0   |\n",
            "|   5e-05   | 1.0 | 1.0 | 13 | 26 |   0   |\n",
            "|   6e-05   | 1.0 | 1.0 | 13 | 26 |   0   |\n",
            "|   7e-05   | 1.0 | 1.0 | 13 | 26 |   0   |\n",
            "|   8e-05   | 1.0 | 1.0 | 13 | 26 |   0   |\n",
            "|   9e-05   | 1.0 | 1.0 | 13 | 26 |   0   |\n",
            "+-----------+-----+-----+----+----+-------+\n",
            "[300003 rows x 6 columns]\n",
            "Note: Only the head of the SFrame is printed.\n",
            "You can use print_rows(num_rows=m, num_columns=n) to print more rows and columns.}\n",
            "\n",
            "Accuracy:  0.8974358974358975\n"
          ],
          "name": "stdout"
        }
      ]
    },
    {
      "cell_type": "code",
      "metadata": {
        "id": "PnNq0XxJ0w8k",
        "colab_type": "code",
        "outputId": "59b063d5-c88d-4adf-e6da-b0bf781be7b2",
        "colab": {
          "base_uri": "https://localhost:8080/",
          "height": 1000
        }
      },
      "source": [
        "model = tc.classifier.create(train_Data, target='class', features=['sepal_length', 'sepal_width', 'petal_length', 'petal_width'])\n",
        "\n",
        "predictions = model.classify(test_Data)\n",
        "print(predictions)\n",
        "\n",
        "results = model.evaluate(test_Data)\n",
        "print(results)\n",
        "\n",
        "print(); print(results['accuracy'])\n",
        "print(); print(results['confusion_matrix'])"
      ],
      "execution_count": 14,
      "outputs": [
        {
          "output_type": "stream",
          "text": [
            "PROGRESS: Creating a validation set from 5 percent of training data. This may take a while.\n",
            "          You can set ``validation_set=None`` to disable validation tracking.\n",
            "\n",
            "PROGRESS: The following methods are available for this type of problem.\n",
            "PROGRESS: BoostedTreesClassifier, RandomForestClassifier, DecisionTreeClassifier, LogisticClassifier\n",
            "PROGRESS: The returned model will be chosen according to validation accuracy.\n"
          ],
          "name": "stdout"
        },
        {
          "output_type": "display_data",
          "data": {
            "text/html": [
              "<pre>Boosted trees classifier:</pre>"
            ],
            "text/plain": [
              "Boosted trees classifier:"
            ]
          },
          "metadata": {
            "tags": []
          }
        },
        {
          "output_type": "display_data",
          "data": {
            "text/html": [
              "<pre>--------------------------------------------------------</pre>"
            ],
            "text/plain": [
              "--------------------------------------------------------"
            ]
          },
          "metadata": {
            "tags": []
          }
        },
        {
          "output_type": "display_data",
          "data": {
            "text/html": [
              "<pre>Number of examples          : 105</pre>"
            ],
            "text/plain": [
              "Number of examples          : 105"
            ]
          },
          "metadata": {
            "tags": []
          }
        },
        {
          "output_type": "display_data",
          "data": {
            "text/html": [
              "<pre>Number of classes           : 3</pre>"
            ],
            "text/plain": [
              "Number of classes           : 3"
            ]
          },
          "metadata": {
            "tags": []
          }
        },
        {
          "output_type": "display_data",
          "data": {
            "text/html": [
              "<pre>Number of feature columns   : 4</pre>"
            ],
            "text/plain": [
              "Number of feature columns   : 4"
            ]
          },
          "metadata": {
            "tags": []
          }
        },
        {
          "output_type": "display_data",
          "data": {
            "text/html": [
              "<pre>Number of unpacked features : 4</pre>"
            ],
            "text/plain": [
              "Number of unpacked features : 4"
            ]
          },
          "metadata": {
            "tags": []
          }
        },
        {
          "output_type": "display_data",
          "data": {
            "text/html": [
              "<pre>+-----------+--------------+-------------------+---------------------+-------------------+---------------------+</pre>"
            ],
            "text/plain": [
              "+-----------+--------------+-------------------+---------------------+-------------------+---------------------+"
            ]
          },
          "metadata": {
            "tags": []
          }
        },
        {
          "output_type": "display_data",
          "data": {
            "text/html": [
              "<pre>| Iteration | Elapsed Time | Training Accuracy | Validation Accuracy | Training Log Loss | Validation Log Loss |</pre>"
            ],
            "text/plain": [
              "| Iteration | Elapsed Time | Training Accuracy | Validation Accuracy | Training Log Loss | Validation Log Loss |"
            ]
          },
          "metadata": {
            "tags": []
          }
        },
        {
          "output_type": "display_data",
          "data": {
            "text/html": [
              "<pre>+-----------+--------------+-------------------+---------------------+-------------------+---------------------+</pre>"
            ],
            "text/plain": [
              "+-----------+--------------+-------------------+---------------------+-------------------+---------------------+"
            ]
          },
          "metadata": {
            "tags": []
          }
        },
        {
          "output_type": "display_data",
          "data": {
            "text/html": [
              "<pre>| 1         | 0.006411     | 1.000000          | 0.833333            | 0.733064          | 0.843477            |</pre>"
            ],
            "text/plain": [
              "| 1         | 0.006411     | 1.000000          | 0.833333            | 0.733064          | 0.843477            |"
            ]
          },
          "metadata": {
            "tags": []
          }
        },
        {
          "output_type": "display_data",
          "data": {
            "text/html": [
              "<pre>| 2         | 0.010334     | 1.000000          | 0.833333            | 0.516389          | 0.697912            |</pre>"
            ],
            "text/plain": [
              "| 2         | 0.010334     | 1.000000          | 0.833333            | 0.516389          | 0.697912            |"
            ]
          },
          "metadata": {
            "tags": []
          }
        },
        {
          "output_type": "display_data",
          "data": {
            "text/html": [
              "<pre>| 3         | 0.013373     | 1.000000          | 0.833333            | 0.373973          | 0.619616            |</pre>"
            ],
            "text/plain": [
              "| 3         | 0.013373     | 1.000000          | 0.833333            | 0.373973          | 0.619616            |"
            ]
          },
          "metadata": {
            "tags": []
          }
        },
        {
          "output_type": "display_data",
          "data": {
            "text/html": [
              "<pre>| 4         | 0.017070     | 1.000000          | 0.833333            | 0.276203          | 0.580505            |</pre>"
            ],
            "text/plain": [
              "| 4         | 0.017070     | 1.000000          | 0.833333            | 0.276203          | 0.580505            |"
            ]
          },
          "metadata": {
            "tags": []
          }
        },
        {
          "output_type": "display_data",
          "data": {
            "text/html": [
              "<pre>| 5         | 0.021204     | 1.000000          | 0.833333            | 0.207668          | 0.566019            |</pre>"
            ],
            "text/plain": [
              "| 5         | 0.021204     | 1.000000          | 0.833333            | 0.207668          | 0.566019            |"
            ]
          },
          "metadata": {
            "tags": []
          }
        },
        {
          "output_type": "display_data",
          "data": {
            "text/html": [
              "<pre>| 10        | 0.033934     | 1.000000          | 0.833333            | 0.060600          | 0.645133            |</pre>"
            ],
            "text/plain": [
              "| 10        | 0.033934     | 1.000000          | 0.833333            | 0.060600          | 0.645133            |"
            ]
          },
          "metadata": {
            "tags": []
          }
        },
        {
          "output_type": "display_data",
          "data": {
            "text/html": [
              "<pre>+-----------+--------------+-------------------+---------------------+-------------------+---------------------+</pre>"
            ],
            "text/plain": [
              "+-----------+--------------+-------------------+---------------------+-------------------+---------------------+"
            ]
          },
          "metadata": {
            "tags": []
          }
        },
        {
          "output_type": "display_data",
          "data": {
            "text/html": [
              "<pre>Random forest classifier:</pre>"
            ],
            "text/plain": [
              "Random forest classifier:"
            ]
          },
          "metadata": {
            "tags": []
          }
        },
        {
          "output_type": "display_data",
          "data": {
            "text/html": [
              "<pre>--------------------------------------------------------</pre>"
            ],
            "text/plain": [
              "--------------------------------------------------------"
            ]
          },
          "metadata": {
            "tags": []
          }
        },
        {
          "output_type": "display_data",
          "data": {
            "text/html": [
              "<pre>Number of examples          : 105</pre>"
            ],
            "text/plain": [
              "Number of examples          : 105"
            ]
          },
          "metadata": {
            "tags": []
          }
        },
        {
          "output_type": "display_data",
          "data": {
            "text/html": [
              "<pre>Number of classes           : 3</pre>"
            ],
            "text/plain": [
              "Number of classes           : 3"
            ]
          },
          "metadata": {
            "tags": []
          }
        },
        {
          "output_type": "display_data",
          "data": {
            "text/html": [
              "<pre>Number of feature columns   : 4</pre>"
            ],
            "text/plain": [
              "Number of feature columns   : 4"
            ]
          },
          "metadata": {
            "tags": []
          }
        },
        {
          "output_type": "display_data",
          "data": {
            "text/html": [
              "<pre>Number of unpacked features : 4</pre>"
            ],
            "text/plain": [
              "Number of unpacked features : 4"
            ]
          },
          "metadata": {
            "tags": []
          }
        },
        {
          "output_type": "display_data",
          "data": {
            "text/html": [
              "<pre>+-----------+--------------+-------------------+---------------------+-------------------+---------------------+</pre>"
            ],
            "text/plain": [
              "+-----------+--------------+-------------------+---------------------+-------------------+---------------------+"
            ]
          },
          "metadata": {
            "tags": []
          }
        },
        {
          "output_type": "display_data",
          "data": {
            "text/html": [
              "<pre>| Iteration | Elapsed Time | Training Accuracy | Validation Accuracy | Training Log Loss | Validation Log Loss |</pre>"
            ],
            "text/plain": [
              "| Iteration | Elapsed Time | Training Accuracy | Validation Accuracy | Training Log Loss | Validation Log Loss |"
            ]
          },
          "metadata": {
            "tags": []
          }
        },
        {
          "output_type": "display_data",
          "data": {
            "text/html": [
              "<pre>+-----------+--------------+-------------------+---------------------+-------------------+---------------------+</pre>"
            ],
            "text/plain": [
              "+-----------+--------------+-------------------+---------------------+-------------------+---------------------+"
            ]
          },
          "metadata": {
            "tags": []
          }
        },
        {
          "output_type": "display_data",
          "data": {
            "text/html": [
              "<pre>| 1         | 0.003354     | 0.980952          | 0.833333            | 0.252647          | 0.564715            |</pre>"
            ],
            "text/plain": [
              "| 1         | 0.003354     | 0.980952          | 0.833333            | 0.252647          | 0.564715            |"
            ]
          },
          "metadata": {
            "tags": []
          }
        },
        {
          "output_type": "display_data",
          "data": {
            "text/html": [
              "<pre>| 2         | 0.008619     | 0.990476          | 0.833333            | 0.244267          | 0.564994            |</pre>"
            ],
            "text/plain": [
              "| 2         | 0.008619     | 0.990476          | 0.833333            | 0.244267          | 0.564994            |"
            ]
          },
          "metadata": {
            "tags": []
          }
        },
        {
          "output_type": "display_data",
          "data": {
            "text/html": [
              "<pre>| 3         | 0.012402     | 0.990476          | 0.833333            | 0.243050          | 0.587690            |</pre>"
            ],
            "text/plain": [
              "| 3         | 0.012402     | 0.990476          | 0.833333            | 0.243050          | 0.587690            |"
            ]
          },
          "metadata": {
            "tags": []
          }
        },
        {
          "output_type": "display_data",
          "data": {
            "text/html": [
              "<pre>| 4         | 0.015195     | 0.990476          | 0.833333            | 0.248292          | 0.609132            |</pre>"
            ],
            "text/plain": [
              "| 4         | 0.015195     | 0.990476          | 0.833333            | 0.248292          | 0.609132            |"
            ]
          },
          "metadata": {
            "tags": []
          }
        },
        {
          "output_type": "display_data",
          "data": {
            "text/html": [
              "<pre>| 5         | 0.018753     | 0.990476          | 0.833333            | 0.248868          | 0.609256            |</pre>"
            ],
            "text/plain": [
              "| 5         | 0.018753     | 0.990476          | 0.833333            | 0.248868          | 0.609256            |"
            ]
          },
          "metadata": {
            "tags": []
          }
        },
        {
          "output_type": "display_data",
          "data": {
            "text/html": [
              "<pre>| 10        | 0.036968     | 0.990476          | 0.833333            | 0.251957          | 0.600935            |</pre>"
            ],
            "text/plain": [
              "| 10        | 0.036968     | 0.990476          | 0.833333            | 0.251957          | 0.600935            |"
            ]
          },
          "metadata": {
            "tags": []
          }
        },
        {
          "output_type": "display_data",
          "data": {
            "text/html": [
              "<pre>+-----------+--------------+-------------------+---------------------+-------------------+---------------------+</pre>"
            ],
            "text/plain": [
              "+-----------+--------------+-------------------+---------------------+-------------------+---------------------+"
            ]
          },
          "metadata": {
            "tags": []
          }
        },
        {
          "output_type": "display_data",
          "data": {
            "text/html": [
              "<pre>Decision tree classifier:</pre>"
            ],
            "text/plain": [
              "Decision tree classifier:"
            ]
          },
          "metadata": {
            "tags": []
          }
        },
        {
          "output_type": "display_data",
          "data": {
            "text/html": [
              "<pre>--------------------------------------------------------</pre>"
            ],
            "text/plain": [
              "--------------------------------------------------------"
            ]
          },
          "metadata": {
            "tags": []
          }
        },
        {
          "output_type": "display_data",
          "data": {
            "text/html": [
              "<pre>Number of examples          : 105</pre>"
            ],
            "text/plain": [
              "Number of examples          : 105"
            ]
          },
          "metadata": {
            "tags": []
          }
        },
        {
          "output_type": "display_data",
          "data": {
            "text/html": [
              "<pre>Number of classes           : 3</pre>"
            ],
            "text/plain": [
              "Number of classes           : 3"
            ]
          },
          "metadata": {
            "tags": []
          }
        },
        {
          "output_type": "display_data",
          "data": {
            "text/html": [
              "<pre>Number of feature columns   : 4</pre>"
            ],
            "text/plain": [
              "Number of feature columns   : 4"
            ]
          },
          "metadata": {
            "tags": []
          }
        },
        {
          "output_type": "display_data",
          "data": {
            "text/html": [
              "<pre>Number of unpacked features : 4</pre>"
            ],
            "text/plain": [
              "Number of unpacked features : 4"
            ]
          },
          "metadata": {
            "tags": []
          }
        },
        {
          "output_type": "display_data",
          "data": {
            "text/html": [
              "<pre>+-----------+--------------+-------------------+---------------------+-------------------+---------------------+</pre>"
            ],
            "text/plain": [
              "+-----------+--------------+-------------------+---------------------+-------------------+---------------------+"
            ]
          },
          "metadata": {
            "tags": []
          }
        },
        {
          "output_type": "display_data",
          "data": {
            "text/html": [
              "<pre>| Iteration | Elapsed Time | Training Accuracy | Validation Accuracy | Training Log Loss | Validation Log Loss |</pre>"
            ],
            "text/plain": [
              "| Iteration | Elapsed Time | Training Accuracy | Validation Accuracy | Training Log Loss | Validation Log Loss |"
            ]
          },
          "metadata": {
            "tags": []
          }
        },
        {
          "output_type": "display_data",
          "data": {
            "text/html": [
              "<pre>+-----------+--------------+-------------------+---------------------+-------------------+---------------------+</pre>"
            ],
            "text/plain": [
              "+-----------+--------------+-------------------+---------------------+-------------------+---------------------+"
            ]
          },
          "metadata": {
            "tags": []
          }
        },
        {
          "output_type": "display_data",
          "data": {
            "text/html": [
              "<pre>| 1         | 0.007126     | 1.000000          | 0.833333            | 0.232417          | 0.586118            |</pre>"
            ],
            "text/plain": [
              "| 1         | 0.007126     | 1.000000          | 0.833333            | 0.232417          | 0.586118            |"
            ]
          },
          "metadata": {
            "tags": []
          }
        },
        {
          "output_type": "display_data",
          "data": {
            "text/html": [
              "<pre>+-----------+--------------+-------------------+---------------------+-------------------+---------------------+</pre>"
            ],
            "text/plain": [
              "+-----------+--------------+-------------------+---------------------+-------------------+---------------------+"
            ]
          },
          "metadata": {
            "tags": []
          }
        },
        {
          "output_type": "display_data",
          "data": {
            "text/html": [
              "<pre>Logistic regression:</pre>"
            ],
            "text/plain": [
              "Logistic regression:"
            ]
          },
          "metadata": {
            "tags": []
          }
        },
        {
          "output_type": "display_data",
          "data": {
            "text/html": [
              "<pre>--------------------------------------------------------</pre>"
            ],
            "text/plain": [
              "--------------------------------------------------------"
            ]
          },
          "metadata": {
            "tags": []
          }
        },
        {
          "output_type": "display_data",
          "data": {
            "text/html": [
              "<pre>Number of examples          : 105</pre>"
            ],
            "text/plain": [
              "Number of examples          : 105"
            ]
          },
          "metadata": {
            "tags": []
          }
        },
        {
          "output_type": "display_data",
          "data": {
            "text/html": [
              "<pre>Number of classes           : 3</pre>"
            ],
            "text/plain": [
              "Number of classes           : 3"
            ]
          },
          "metadata": {
            "tags": []
          }
        },
        {
          "output_type": "display_data",
          "data": {
            "text/html": [
              "<pre>Number of feature columns   : 4</pre>"
            ],
            "text/plain": [
              "Number of feature columns   : 4"
            ]
          },
          "metadata": {
            "tags": []
          }
        },
        {
          "output_type": "display_data",
          "data": {
            "text/html": [
              "<pre>Number of unpacked features : 4</pre>"
            ],
            "text/plain": [
              "Number of unpacked features : 4"
            ]
          },
          "metadata": {
            "tags": []
          }
        },
        {
          "output_type": "display_data",
          "data": {
            "text/html": [
              "<pre>Number of coefficients      : 10</pre>"
            ],
            "text/plain": [
              "Number of coefficients      : 10"
            ]
          },
          "metadata": {
            "tags": []
          }
        },
        {
          "output_type": "display_data",
          "data": {
            "text/html": [
              "<pre>Starting Newton Method</pre>"
            ],
            "text/plain": [
              "Starting Newton Method"
            ]
          },
          "metadata": {
            "tags": []
          }
        },
        {
          "output_type": "display_data",
          "data": {
            "text/html": [
              "<pre>--------------------------------------------------------</pre>"
            ],
            "text/plain": [
              "--------------------------------------------------------"
            ]
          },
          "metadata": {
            "tags": []
          }
        },
        {
          "output_type": "display_data",
          "data": {
            "text/html": [
              "<pre>+-----------+----------+--------------+-------------------+---------------------+</pre>"
            ],
            "text/plain": [
              "+-----------+----------+--------------+-------------------+---------------------+"
            ]
          },
          "metadata": {
            "tags": []
          }
        },
        {
          "output_type": "display_data",
          "data": {
            "text/html": [
              "<pre>| Iteration | Passes   | Elapsed Time | Training Accuracy | Validation Accuracy |</pre>"
            ],
            "text/plain": [
              "| Iteration | Passes   | Elapsed Time | Training Accuracy | Validation Accuracy |"
            ]
          },
          "metadata": {
            "tags": []
          }
        },
        {
          "output_type": "display_data",
          "data": {
            "text/html": [
              "<pre>+-----------+----------+--------------+-------------------+---------------------+</pre>"
            ],
            "text/plain": [
              "+-----------+----------+--------------+-------------------+---------------------+"
            ]
          },
          "metadata": {
            "tags": []
          }
        },
        {
          "output_type": "display_data",
          "data": {
            "text/html": [
              "<pre>| 1         | 2        | 0.009896     | 0.866667          | 0.333333            |</pre>"
            ],
            "text/plain": [
              "| 1         | 2        | 0.009896     | 0.866667          | 0.333333            |"
            ]
          },
          "metadata": {
            "tags": []
          }
        },
        {
          "output_type": "display_data",
          "data": {
            "text/html": [
              "<pre>| 2         | 3        | 0.012797     | 0.933333          | 0.333333            |</pre>"
            ],
            "text/plain": [
              "| 2         | 3        | 0.012797     | 0.933333          | 0.333333            |"
            ]
          },
          "metadata": {
            "tags": []
          }
        },
        {
          "output_type": "display_data",
          "data": {
            "text/html": [
              "<pre>| 3         | 4        | 0.016237     | 0.980952          | 0.833333            |</pre>"
            ],
            "text/plain": [
              "| 3         | 4        | 0.016237     | 0.980952          | 0.833333            |"
            ]
          },
          "metadata": {
            "tags": []
          }
        },
        {
          "output_type": "display_data",
          "data": {
            "text/html": [
              "<pre>| 4         | 5        | 0.018909     | 0.971429          | 0.833333            |</pre>"
            ],
            "text/plain": [
              "| 4         | 5        | 0.018909     | 0.971429          | 0.833333            |"
            ]
          },
          "metadata": {
            "tags": []
          }
        },
        {
          "output_type": "display_data",
          "data": {
            "text/html": [
              "<pre>| 5         | 6        | 0.022257     | 0.971429          | 0.833333            |</pre>"
            ],
            "text/plain": [
              "| 5         | 6        | 0.022257     | 0.971429          | 0.833333            |"
            ]
          },
          "metadata": {
            "tags": []
          }
        },
        {
          "output_type": "display_data",
          "data": {
            "text/html": [
              "<pre>| 6         | 7        | 0.024501     | 0.971429          | 0.833333            |</pre>"
            ],
            "text/plain": [
              "| 6         | 7        | 0.024501     | 0.971429          | 0.833333            |"
            ]
          },
          "metadata": {
            "tags": []
          }
        },
        {
          "output_type": "display_data",
          "data": {
            "text/html": [
              "<pre>+-----------+----------+--------------+-------------------+---------------------+</pre>"
            ],
            "text/plain": [
              "+-----------+----------+--------------+-------------------+---------------------+"
            ]
          },
          "metadata": {
            "tags": []
          }
        },
        {
          "output_type": "display_data",
          "data": {
            "text/html": [
              "<pre>SUCCESS: Optimal solution found.</pre>"
            ],
            "text/plain": [
              "SUCCESS: Optimal solution found."
            ]
          },
          "metadata": {
            "tags": []
          }
        },
        {
          "output_type": "display_data",
          "data": {
            "text/html": [
              "<pre></pre>"
            ],
            "text/plain": [
              ""
            ]
          },
          "metadata": {
            "tags": []
          }
        },
        {
          "output_type": "stream",
          "text": [
            "PROGRESS: Model selection based on validation accuracy:\n",
            "PROGRESS: ---------------------------------------------\n",
            "PROGRESS: BoostedTreesClassifier          : 0.8333333333333334\n",
            "PROGRESS: RandomForestClassifier          : 0.8333333333333334\n",
            "PROGRESS: DecisionTreeClassifier          : 0.8333333333333334\n",
            "PROGRESS: LogisticClassifier              : 0.8333333333333334\n",
            "PROGRESS: ---------------------------------------------\n",
            "PROGRESS: Selecting BoostedTreesClassifier based on validation set performance.\n",
            "+-------------+--------------------+\n",
            "|    class    |    probability     |\n",
            "+-------------+--------------------+\n",
            "| Iris-setosa | 0.9489607214927673 |\n",
            "| Iris-setosa | 0.9489607214927673 |\n",
            "| Iris-setosa | 0.9489607214927673 |\n",
            "| Iris-setosa | 0.9489607214927673 |\n",
            "| Iris-setosa | 0.9489607214927673 |\n",
            "| Iris-setosa | 0.9489607214927673 |\n",
            "| Iris-setosa | 0.9489607214927673 |\n",
            "| Iris-setosa | 0.9489607214927673 |\n",
            "| Iris-setosa | 0.9489607214927673 |\n",
            "| Iris-setosa | 0.9489607214927673 |\n",
            "+-------------+--------------------+\n",
            "[39 rows x 2 columns]\n",
            "Note: Only the head of the SFrame is printed.\n",
            "You can use print_rows(num_rows=m, num_columns=n) to print more rows and columns.\n",
            "{'accuracy': 0.8461538461538461, 'auc': 0.9841504997060553, 'confusion_matrix': Columns:\n",
            "\ttarget_label\tstr\n",
            "\tpredicted_label\tstr\n",
            "\tcount\tint\n",
            "\n",
            "Rows: 5\n",
            "\n",
            "Data:\n",
            "+-----------------+-----------------+-------+\n",
            "|   target_label  | predicted_label | count |\n",
            "+-----------------+-----------------+-------+\n",
            "| Iris-versicolor |  Iris-virginica |   2   |\n",
            "| Iris-versicolor | Iris-versicolor |   10  |\n",
            "|   Iris-setosa   |   Iris-setosa   |   13  |\n",
            "|  Iris-virginica |  Iris-virginica |   10  |\n",
            "|  Iris-virginica | Iris-versicolor |   4   |\n",
            "+-----------------+-----------------+-------+\n",
            "[5 rows x 3 columns]\n",
            ", 'f1_score': 0.8461538461538461, 'log_loss': 0.25973812635372834, 'precision': 0.8492063492063492, 'recall': 0.8492063492063492, 'roc_curve': Columns:\n",
            "\tthreshold\tfloat\n",
            "\tfpr\tfloat\n",
            "\ttpr\tfloat\n",
            "\tp\tint\n",
            "\tn\tint\n",
            "\tclass\tint\n",
            "\n",
            "Rows: 300003\n",
            "\n",
            "Data:\n",
            "+-----------+-----+-----+----+----+-------+\n",
            "| threshold | fpr | tpr | p  | n  | class |\n",
            "+-----------+-----+-----+----+----+-------+\n",
            "|    0.0    | 1.0 | 1.0 | 13 | 26 |   0   |\n",
            "|   1e-05   | 1.0 | 1.0 | 13 | 26 |   0   |\n",
            "|   2e-05   | 1.0 | 1.0 | 13 | 26 |   0   |\n",
            "|   3e-05   | 1.0 | 1.0 | 13 | 26 |   0   |\n",
            "|   4e-05   | 1.0 | 1.0 | 13 | 26 |   0   |\n",
            "|   5e-05   | 1.0 | 1.0 | 13 | 26 |   0   |\n",
            "|   6e-05   | 1.0 | 1.0 | 13 | 26 |   0   |\n",
            "|   7e-05   | 1.0 | 1.0 | 13 | 26 |   0   |\n",
            "|   8e-05   | 1.0 | 1.0 | 13 | 26 |   0   |\n",
            "|   9e-05   | 1.0 | 1.0 | 13 | 26 |   0   |\n",
            "+-----------+-----+-----+----+----+-------+\n",
            "[300003 rows x 6 columns]\n",
            "Note: Only the head of the SFrame is printed.\n",
            "You can use print_rows(num_rows=m, num_columns=n) to print more rows and columns.}\n",
            "\n",
            "0.8461538461538461\n",
            "\n",
            "+-----------------+-----------------+-------+\n",
            "|   target_label  | predicted_label | count |\n",
            "+-----------------+-----------------+-------+\n",
            "| Iris-versicolor |  Iris-virginica |   2   |\n",
            "| Iris-versicolor | Iris-versicolor |   10  |\n",
            "|   Iris-setosa   |   Iris-setosa   |   13  |\n",
            "|  Iris-virginica |  Iris-virginica |   10  |\n",
            "|  Iris-virginica | Iris-versicolor |   4   |\n",
            "+-----------------+-----------------+-------+\n",
            "[5 rows x 3 columns]\n",
            "\n"
          ],
          "name": "stdout"
        }
      ]
    },
    {
      "cell_type": "code",
      "metadata": {
        "id": "GHCFlYgn28MC",
        "colab_type": "code",
        "outputId": "18baf565-3b56-46b2-9cb6-e834a66994ac",
        "colab": {
          "base_uri": "https://localhost:8080/",
          "height": 180
        }
      },
      "source": [
        "print('\\nOverall Accuracy of the trained models: \\n')\n",
        "print('Logistic Classifier: ', results_lc['accuracy'])\n",
        "print('BoostedTree_Classifier: ', results_bt['accuracy'])\n",
        "print('DecisionTree_Classifier: ', results_dt['accuracy'])\n",
        "print('NearestNeibourgh_Classifier: ', results_nn['accuracy'])\n",
        "print('RandomForest_Classifier: ', results_rf['accuracy'])\n",
        "print('Automated_Classifier: ', results['accuracy'])\n",
        "\n"
      ],
      "execution_count": 15,
      "outputs": [
        {
          "output_type": "stream",
          "text": [
            "\n",
            "Overall Accuracy of the trained models: \n",
            "\n",
            "Logistic Classifier:  0.9487179487179487\n",
            "BoostedTree_Classifier:  0.8974358974358975\n",
            "DecisionTree_Classifier:  0.8974358974358975\n",
            "NearestNeibourgh_Classifier:  0.9743589743589743\n",
            "RandomForest_Classifier:  0.8974358974358975\n",
            "Automated_Classifier:  0.8461538461538461\n"
          ],
          "name": "stdout"
        }
      ]
    }
  ]
}