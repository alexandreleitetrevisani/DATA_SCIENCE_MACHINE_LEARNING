{
  "nbformat": 4,
  "nbformat_minor": 0,
  "metadata": {
    "colab": {
      "name": "LondonBikesSharing_TimeSeries.ipynb",
      "provenance": [],
      "collapsed_sections": [],
      "authorship_tag": "ABX9TyOX8Erx/M1QLulBtHJv/C1M",
      "include_colab_link": true
    },
    "kernelspec": {
      "name": "python3",
      "display_name": "Python 3"
    }
  },
  "cells": [
    {
      "cell_type": "markdown",
      "metadata": {
        "id": "view-in-github",
        "colab_type": "text"
      },
      "source": [
        "<a href=\"https://colab.research.google.com/github/alexandreleitetrevisani/DATA_SCIENCE_MACHINE_LEARNING/blob/master/LondonBikesSharing_TimeSeries.ipynb\" target=\"_parent\"><img src=\"https://colab.research.google.com/assets/colab-badge.svg\" alt=\"Open In Colab\"/></a>"
      ]
    },
    {
      "cell_type": "code",
      "metadata": {
        "id": "0Id50Yc73IER",
        "colab_type": "code",
        "colab": {
          "base_uri": "https://localhost:8080/",
          "height": 74
        },
        "outputId": "6537718f-b1f7-4bdd-b6cb-a87795fc5ad6"
      },
      "source": [
        "import numpy as np\n",
        "import tensorflow as tf\n",
        "from tensorflow import keras\n",
        "import pandas as pd\n",
        "import seaborn as sns\n",
        "from pylab import rcParams\n",
        "import matplotlib.pyplot as plt\n",
        "from matplotlib import rc\n",
        "from sklearn.model_selection import train_test_split\n",
        "from pandas.plotting import register_matplotlib_converters\n",
        "\n",
        "%matplotlib inline\n",
        "%config InlineBeckend.figure_format='retina'\n",
        "\n",
        "register_matplotlib_converters()\n",
        "sns.set(style='whitegrid', palette='muted', font_scale=1.5)\n",
        "\n",
        "rcParams['figure.figsize'] = 22,10\n",
        "\n",
        "RANDOM_SEED = 42\n",
        "\n",
        "np.random.seed(RANDOM_SEED)\n",
        "tf.random.set_seed(RANDOM_SEED)"
      ],
      "execution_count": 1,
      "outputs": [
        {
          "output_type": "stream",
          "text": [
            "/usr/local/lib/python3.6/dist-packages/statsmodels/tools/_testing.py:19: FutureWarning: pandas.util.testing is deprecated. Use the functions in the public API at pandas.testing instead.\n",
            "  import pandas.util.testing as tm\n"
          ],
          "name": "stderr"
        }
      ]
    },
    {
      "cell_type": "code",
      "metadata": {
        "id": "tFeHzjfz5yTe",
        "colab_type": "code",
        "colab": {}
      },
      "source": [
        "df = pd.read_csv('https://storage.googleapis.com/kagglesdsdata/datasets/376751/731448/london_merged.csv?GoogleAccessId=web-data@kaggle-161607.iam.gserviceaccount.com&Expires=1590686398&Signature=KUtgcclrWVqoATvNP245z20rN6%2BAtvCoVug6p2%2FRHN0DKrXP4h3LWaKgSujieqRA6jooWjrDbI9oJoU4yHlj7ZJT7%2Bf3oip2E7YdwyllFQUy5GI6ombJTQITLnugoVoCQmRGzTcbzmksFvrhNqe0ZpcHi9SRnT6tSsT5nljjUy%2BCVCKATG8M0ooDvpFdl%2BH5CFhTcoL3aHklGU3udkMKXPQcH0N5lo7k243YGdmru6dOger2oSn3oLZ%2Bc9%2BO8srkdnCnt1hP0fbzi9C%2B8zG6U3bGUsb%2FH6OOXbD89MZ%2FTEnuiXQAjYRUTp0fVb%2BBGCDJaL4xfjyBS6rl%2BJlclEJkEA%3D%3D&response-content-disposition=attachment%3B+filename%3Dlondon_merged.csv', parse_dates=['timestamp'], index_col='timestamp')"
      ],
      "execution_count": 0,
      "outputs": []
    },
    {
      "cell_type": "code",
      "metadata": {
        "id": "XPzQ8Zkj6LyE",
        "colab_type": "code",
        "colab": {
          "base_uri": "https://localhost:8080/",
          "height": 35
        },
        "outputId": "1ee26d1c-f7c8-4086-8fb2-32ef0a4df14c"
      },
      "source": [
        "df.shape"
      ],
      "execution_count": 3,
      "outputs": [
        {
          "output_type": "execute_result",
          "data": {
            "text/plain": [
              "(17414, 9)"
            ]
          },
          "metadata": {
            "tags": []
          },
          "execution_count": 3
        }
      ]
    },
    {
      "cell_type": "code",
      "metadata": {
        "id": "lQstqS3I6PXy",
        "colab_type": "code",
        "colab": {
          "base_uri": "https://localhost:8080/",
          "height": 238
        },
        "outputId": "a2b96051-bedc-4a4a-f058-e0b5af03a85f"
      },
      "source": [
        "df.head()"
      ],
      "execution_count": 4,
      "outputs": [
        {
          "output_type": "execute_result",
          "data": {
            "text/html": [
              "<div>\n",
              "<style scoped>\n",
              "    .dataframe tbody tr th:only-of-type {\n",
              "        vertical-align: middle;\n",
              "    }\n",
              "\n",
              "    .dataframe tbody tr th {\n",
              "        vertical-align: top;\n",
              "    }\n",
              "\n",
              "    .dataframe thead th {\n",
              "        text-align: right;\n",
              "    }\n",
              "</style>\n",
              "<table border=\"1\" class=\"dataframe\">\n",
              "  <thead>\n",
              "    <tr style=\"text-align: right;\">\n",
              "      <th></th>\n",
              "      <th>cnt</th>\n",
              "      <th>t1</th>\n",
              "      <th>t2</th>\n",
              "      <th>hum</th>\n",
              "      <th>wind_speed</th>\n",
              "      <th>weather_code</th>\n",
              "      <th>is_holiday</th>\n",
              "      <th>is_weekend</th>\n",
              "      <th>season</th>\n",
              "    </tr>\n",
              "    <tr>\n",
              "      <th>timestamp</th>\n",
              "      <th></th>\n",
              "      <th></th>\n",
              "      <th></th>\n",
              "      <th></th>\n",
              "      <th></th>\n",
              "      <th></th>\n",
              "      <th></th>\n",
              "      <th></th>\n",
              "      <th></th>\n",
              "    </tr>\n",
              "  </thead>\n",
              "  <tbody>\n",
              "    <tr>\n",
              "      <th>2015-01-04 00:00:00</th>\n",
              "      <td>182</td>\n",
              "      <td>3.0</td>\n",
              "      <td>2.0</td>\n",
              "      <td>93.0</td>\n",
              "      <td>6.0</td>\n",
              "      <td>3.0</td>\n",
              "      <td>0.0</td>\n",
              "      <td>1.0</td>\n",
              "      <td>3.0</td>\n",
              "    </tr>\n",
              "    <tr>\n",
              "      <th>2015-01-04 01:00:00</th>\n",
              "      <td>138</td>\n",
              "      <td>3.0</td>\n",
              "      <td>2.5</td>\n",
              "      <td>93.0</td>\n",
              "      <td>5.0</td>\n",
              "      <td>1.0</td>\n",
              "      <td>0.0</td>\n",
              "      <td>1.0</td>\n",
              "      <td>3.0</td>\n",
              "    </tr>\n",
              "    <tr>\n",
              "      <th>2015-01-04 02:00:00</th>\n",
              "      <td>134</td>\n",
              "      <td>2.5</td>\n",
              "      <td>2.5</td>\n",
              "      <td>96.5</td>\n",
              "      <td>0.0</td>\n",
              "      <td>1.0</td>\n",
              "      <td>0.0</td>\n",
              "      <td>1.0</td>\n",
              "      <td>3.0</td>\n",
              "    </tr>\n",
              "    <tr>\n",
              "      <th>2015-01-04 03:00:00</th>\n",
              "      <td>72</td>\n",
              "      <td>2.0</td>\n",
              "      <td>2.0</td>\n",
              "      <td>100.0</td>\n",
              "      <td>0.0</td>\n",
              "      <td>1.0</td>\n",
              "      <td>0.0</td>\n",
              "      <td>1.0</td>\n",
              "      <td>3.0</td>\n",
              "    </tr>\n",
              "    <tr>\n",
              "      <th>2015-01-04 04:00:00</th>\n",
              "      <td>47</td>\n",
              "      <td>2.0</td>\n",
              "      <td>0.0</td>\n",
              "      <td>93.0</td>\n",
              "      <td>6.5</td>\n",
              "      <td>1.0</td>\n",
              "      <td>0.0</td>\n",
              "      <td>1.0</td>\n",
              "      <td>3.0</td>\n",
              "    </tr>\n",
              "  </tbody>\n",
              "</table>\n",
              "</div>"
            ],
            "text/plain": [
              "                     cnt   t1   t2  ...  is_holiday  is_weekend  season\n",
              "timestamp                           ...                                \n",
              "2015-01-04 00:00:00  182  3.0  2.0  ...         0.0         1.0     3.0\n",
              "2015-01-04 01:00:00  138  3.0  2.5  ...         0.0         1.0     3.0\n",
              "2015-01-04 02:00:00  134  2.5  2.5  ...         0.0         1.0     3.0\n",
              "2015-01-04 03:00:00   72  2.0  2.0  ...         0.0         1.0     3.0\n",
              "2015-01-04 04:00:00   47  2.0  0.0  ...         0.0         1.0     3.0\n",
              "\n",
              "[5 rows x 9 columns]"
            ]
          },
          "metadata": {
            "tags": []
          },
          "execution_count": 4
        }
      ]
    },
    {
      "cell_type": "code",
      "metadata": {
        "id": "ZMXCsoyz6WHx",
        "colab_type": "code",
        "colab": {}
      },
      "source": [
        "df['hour'] = df.index.hour\n",
        "df['day_of_month'] = df.index.day\n",
        "df['day_of_week'] = df.index.dayofweek\n",
        "df['month'] = df.index.month"
      ],
      "execution_count": 0,
      "outputs": []
    },
    {
      "cell_type": "code",
      "metadata": {
        "id": "sxBtfNxb6xgW",
        "colab_type": "code",
        "colab": {
          "base_uri": "https://localhost:8080/",
          "height": 238
        },
        "outputId": "1d3841e5-8c68-4998-c994-d4d20decbb78"
      },
      "source": [
        "df.head()"
      ],
      "execution_count": 6,
      "outputs": [
        {
          "output_type": "execute_result",
          "data": {
            "text/html": [
              "<div>\n",
              "<style scoped>\n",
              "    .dataframe tbody tr th:only-of-type {\n",
              "        vertical-align: middle;\n",
              "    }\n",
              "\n",
              "    .dataframe tbody tr th {\n",
              "        vertical-align: top;\n",
              "    }\n",
              "\n",
              "    .dataframe thead th {\n",
              "        text-align: right;\n",
              "    }\n",
              "</style>\n",
              "<table border=\"1\" class=\"dataframe\">\n",
              "  <thead>\n",
              "    <tr style=\"text-align: right;\">\n",
              "      <th></th>\n",
              "      <th>cnt</th>\n",
              "      <th>t1</th>\n",
              "      <th>t2</th>\n",
              "      <th>hum</th>\n",
              "      <th>wind_speed</th>\n",
              "      <th>weather_code</th>\n",
              "      <th>is_holiday</th>\n",
              "      <th>is_weekend</th>\n",
              "      <th>season</th>\n",
              "      <th>hour</th>\n",
              "      <th>day_of_month</th>\n",
              "      <th>day_of_week</th>\n",
              "      <th>month</th>\n",
              "    </tr>\n",
              "    <tr>\n",
              "      <th>timestamp</th>\n",
              "      <th></th>\n",
              "      <th></th>\n",
              "      <th></th>\n",
              "      <th></th>\n",
              "      <th></th>\n",
              "      <th></th>\n",
              "      <th></th>\n",
              "      <th></th>\n",
              "      <th></th>\n",
              "      <th></th>\n",
              "      <th></th>\n",
              "      <th></th>\n",
              "      <th></th>\n",
              "    </tr>\n",
              "  </thead>\n",
              "  <tbody>\n",
              "    <tr>\n",
              "      <th>2015-01-04 00:00:00</th>\n",
              "      <td>182</td>\n",
              "      <td>3.0</td>\n",
              "      <td>2.0</td>\n",
              "      <td>93.0</td>\n",
              "      <td>6.0</td>\n",
              "      <td>3.0</td>\n",
              "      <td>0.0</td>\n",
              "      <td>1.0</td>\n",
              "      <td>3.0</td>\n",
              "      <td>0</td>\n",
              "      <td>4</td>\n",
              "      <td>6</td>\n",
              "      <td>1</td>\n",
              "    </tr>\n",
              "    <tr>\n",
              "      <th>2015-01-04 01:00:00</th>\n",
              "      <td>138</td>\n",
              "      <td>3.0</td>\n",
              "      <td>2.5</td>\n",
              "      <td>93.0</td>\n",
              "      <td>5.0</td>\n",
              "      <td>1.0</td>\n",
              "      <td>0.0</td>\n",
              "      <td>1.0</td>\n",
              "      <td>3.0</td>\n",
              "      <td>1</td>\n",
              "      <td>4</td>\n",
              "      <td>6</td>\n",
              "      <td>1</td>\n",
              "    </tr>\n",
              "    <tr>\n",
              "      <th>2015-01-04 02:00:00</th>\n",
              "      <td>134</td>\n",
              "      <td>2.5</td>\n",
              "      <td>2.5</td>\n",
              "      <td>96.5</td>\n",
              "      <td>0.0</td>\n",
              "      <td>1.0</td>\n",
              "      <td>0.0</td>\n",
              "      <td>1.0</td>\n",
              "      <td>3.0</td>\n",
              "      <td>2</td>\n",
              "      <td>4</td>\n",
              "      <td>6</td>\n",
              "      <td>1</td>\n",
              "    </tr>\n",
              "    <tr>\n",
              "      <th>2015-01-04 03:00:00</th>\n",
              "      <td>72</td>\n",
              "      <td>2.0</td>\n",
              "      <td>2.0</td>\n",
              "      <td>100.0</td>\n",
              "      <td>0.0</td>\n",
              "      <td>1.0</td>\n",
              "      <td>0.0</td>\n",
              "      <td>1.0</td>\n",
              "      <td>3.0</td>\n",
              "      <td>3</td>\n",
              "      <td>4</td>\n",
              "      <td>6</td>\n",
              "      <td>1</td>\n",
              "    </tr>\n",
              "    <tr>\n",
              "      <th>2015-01-04 04:00:00</th>\n",
              "      <td>47</td>\n",
              "      <td>2.0</td>\n",
              "      <td>0.0</td>\n",
              "      <td>93.0</td>\n",
              "      <td>6.5</td>\n",
              "      <td>1.0</td>\n",
              "      <td>0.0</td>\n",
              "      <td>1.0</td>\n",
              "      <td>3.0</td>\n",
              "      <td>4</td>\n",
              "      <td>4</td>\n",
              "      <td>6</td>\n",
              "      <td>1</td>\n",
              "    </tr>\n",
              "  </tbody>\n",
              "</table>\n",
              "</div>"
            ],
            "text/plain": [
              "                     cnt   t1   t2  ...  day_of_month  day_of_week  month\n",
              "timestamp                           ...                                  \n",
              "2015-01-04 00:00:00  182  3.0  2.0  ...             4            6      1\n",
              "2015-01-04 01:00:00  138  3.0  2.5  ...             4            6      1\n",
              "2015-01-04 02:00:00  134  2.5  2.5  ...             4            6      1\n",
              "2015-01-04 03:00:00   72  2.0  2.0  ...             4            6      1\n",
              "2015-01-04 04:00:00   47  2.0  0.0  ...             4            6      1\n",
              "\n",
              "[5 rows x 13 columns]"
            ]
          },
          "metadata": {
            "tags": []
          },
          "execution_count": 6
        }
      ]
    },
    {
      "cell_type": "code",
      "metadata": {
        "id": "eayl1Xld9pdo",
        "colab_type": "code",
        "colab": {
          "base_uri": "https://localhost:8080/",
          "height": 237
        },
        "outputId": "795b28f9-2171-4bdb-cd28-e1797bdae583"
      },
      "source": [
        "df.index"
      ],
      "execution_count": 9,
      "outputs": [
        {
          "output_type": "execute_result",
          "data": {
            "text/plain": [
              "DatetimeIndex(['2015-01-04 00:00:00', '2015-01-04 01:00:00',\n",
              "               '2015-01-04 02:00:00', '2015-01-04 03:00:00',\n",
              "               '2015-01-04 04:00:00', '2015-01-04 05:00:00',\n",
              "               '2015-01-04 06:00:00', '2015-01-04 07:00:00',\n",
              "               '2015-01-04 08:00:00', '2015-01-04 09:00:00',\n",
              "               ...\n",
              "               '2017-01-03 14:00:00', '2017-01-03 15:00:00',\n",
              "               '2017-01-03 16:00:00', '2017-01-03 17:00:00',\n",
              "               '2017-01-03 18:00:00', '2017-01-03 19:00:00',\n",
              "               '2017-01-03 20:00:00', '2017-01-03 21:00:00',\n",
              "               '2017-01-03 22:00:00', '2017-01-03 23:00:00'],\n",
              "              dtype='datetime64[ns]', name='timestamp', length=17414, freq=None)"
            ]
          },
          "metadata": {
            "tags": []
          },
          "execution_count": 9
        }
      ]
    },
    {
      "cell_type": "code",
      "metadata": {
        "id": "lP17IPDJ91YY",
        "colab_type": "code",
        "colab": {
          "base_uri": "https://localhost:8080/",
          "height": 72
        },
        "outputId": "5e1e8083-1c52-4373-cdc7-c5e656ec642a"
      },
      "source": [
        "df.columns"
      ],
      "execution_count": 10,
      "outputs": [
        {
          "output_type": "execute_result",
          "data": {
            "text/plain": [
              "Index(['cnt', 't1', 't2', 'hum', 'wind_speed', 'weather_code', 'is_holiday',\n",
              "       'is_weekend', 'season', 'hour', 'day_of_month', 'day_of_week', 'month'],\n",
              "      dtype='object')"
            ]
          },
          "metadata": {
            "tags": []
          },
          "execution_count": 10
        }
      ]
    },
    {
      "cell_type": "code",
      "metadata": {
        "id": "n5XtMEk86zMa",
        "colab_type": "code",
        "colab": {
          "base_uri": "https://localhost:8080/",
          "height": 35
        },
        "outputId": "6c8f02da-0214-4807-a4b3-e48b438cb41d"
      },
      "source": [
        "train_size = int(len(df) * 0.9)\n",
        "test_size = len(df) - train_size\n",
        "train, test = df.iloc[0:train_size], df.iloc[train_size:len(df)]\n",
        "print(len(train), len(test))"
      ],
      "execution_count": 7,
      "outputs": [
        {
          "output_type": "stream",
          "text": [
            "15672 1742\n"
          ],
          "name": "stdout"
        }
      ]
    },
    {
      "cell_type": "code",
      "metadata": {
        "id": "VTdqsfXTE99Z",
        "colab_type": "code",
        "colab": {}
      },
      "source": [
        "from sklearn.preprocessing import RobustScaler"
      ],
      "execution_count": 0,
      "outputs": []
    },
    {
      "cell_type": "code",
      "metadata": {
        "id": "VB4ihQcy7b4k",
        "colab_type": "code",
        "colab": {
          "base_uri": "https://localhost:8080/",
          "height": 458
        },
        "outputId": "1519254c-1653-4ac1-eb42-33c9f2659a7b"
      },
      "source": [
        "f_columns = ['t1', 't2', 'hum', 'wind_speed']\n",
        "\n",
        "f_transformer = RobustScaler()\n",
        "\n",
        "cnt_transformer = RobustScaler()\n",
        "\n",
        "f_transformer = f_transformer.fit(train[f_columns].to_numpy())\n",
        "\n",
        "cnt_transformer = cnt_transformer.fit(train[['cnt']])\n",
        "\n",
        "train.loc[:, f_columns] = f_transformer.transform(train[f_columns].to_numpy())\n",
        "train['cnt'] = cnt_transformer.transform(train[['cnt']])\n",
        "\n",
        "test.loc[:, f_columns] = f_transformer.transform(test[f_columns].to_numpy())\n",
        "test['cnt'] = cnt_transformer.transform(test[['cnt']])\n"
      ],
      "execution_count": 20,
      "outputs": [
        {
          "output_type": "stream",
          "text": [
            "/usr/local/lib/python3.6/dist-packages/pandas/core/indexing.py:966: SettingWithCopyWarning: \n",
            "A value is trying to be set on a copy of a slice from a DataFrame.\n",
            "Try using .loc[row_indexer,col_indexer] = value instead\n",
            "\n",
            "See the caveats in the documentation: https://pandas.pydata.org/pandas-docs/stable/user_guide/indexing.html#returning-a-view-versus-a-copy\n",
            "  self.obj[item] = s\n",
            "/usr/local/lib/python3.6/dist-packages/ipykernel_launcher.py:12: SettingWithCopyWarning: \n",
            "A value is trying to be set on a copy of a slice from a DataFrame.\n",
            "Try using .loc[row_indexer,col_indexer] = value instead\n",
            "\n",
            "See the caveats in the documentation: https://pandas.pydata.org/pandas-docs/stable/user_guide/indexing.html#returning-a-view-versus-a-copy\n",
            "  if sys.path[0] == '':\n",
            "/usr/local/lib/python3.6/dist-packages/pandas/core/indexing.py:966: SettingWithCopyWarning: \n",
            "A value is trying to be set on a copy of a slice from a DataFrame.\n",
            "Try using .loc[row_indexer,col_indexer] = value instead\n",
            "\n",
            "See the caveats in the documentation: https://pandas.pydata.org/pandas-docs/stable/user_guide/indexing.html#returning-a-view-versus-a-copy\n",
            "  self.obj[item] = s\n",
            "/usr/local/lib/python3.6/dist-packages/ipykernel_launcher.py:15: SettingWithCopyWarning: \n",
            "A value is trying to be set on a copy of a slice from a DataFrame.\n",
            "Try using .loc[row_indexer,col_indexer] = value instead\n",
            "\n",
            "See the caveats in the documentation: https://pandas.pydata.org/pandas-docs/stable/user_guide/indexing.html#returning-a-view-versus-a-copy\n",
            "  from ipykernel import kernelapp as app\n"
          ],
          "name": "stderr"
        }
      ]
    },
    {
      "cell_type": "code",
      "metadata": {
        "id": "GW5oNhdq8s_j",
        "colab_type": "code",
        "colab": {
          "base_uri": "https://localhost:8080/",
          "height": 316
        },
        "outputId": "71f367b6-84ad-4366-cb9c-46fc92a67087"
      },
      "source": [
        "sns.lineplot(x=df.index, y='cnt', data=df)"
      ],
      "execution_count": 11,
      "outputs": [
        {
          "output_type": "execute_result",
          "data": {
            "text/plain": [
              "<matplotlib.axes._subplots.AxesSubplot at 0x7fec6373e470>"
            ]
          },
          "metadata": {
            "tags": []
          },
          "execution_count": 11
        },
        {
          "output_type": "display_data",
          "data": {
            "image/png": "[encoded data removed]",
            "text/plain": [
              "<Figure size 432x288 with 1 Axes>"
            ]
          },
          "metadata": {
            "tags": [],
            "needs_background": "light"
          }
        }
      ]
    },
    {
      "cell_type": "code",
      "metadata": {
        "id": "5T4cycbJ-6fn",
        "colab_type": "code",
        "colab": {
          "base_uri": "https://localhost:8080/",
          "height": 865
        },
        "outputId": "30c4ee70-41be-447d-ee0b-0b1d319c3639"
      },
      "source": [
        "df_by_month = df.resample('M').sum()\n",
        "df_by_month"
      ],
      "execution_count": 13,
      "outputs": [
        {
          "output_type": "execute_result",
          "data": {
            "text/html": [
              "<div>\n",
              "<style scoped>\n",
              "    .dataframe tbody tr th:only-of-type {\n",
              "        vertical-align: middle;\n",
              "    }\n",
              "\n",
              "    .dataframe tbody tr th {\n",
              "        vertical-align: top;\n",
              "    }\n",
              "\n",
              "    .dataframe thead th {\n",
              "        text-align: right;\n",
              "    }\n",
              "</style>\n",
              "<table border=\"1\" class=\"dataframe\">\n",
              "  <thead>\n",
              "    <tr style=\"text-align: right;\">\n",
              "      <th></th>\n",
              "      <th>cnt</th>\n",
              "      <th>t1</th>\n",
              "      <th>t2</th>\n",
              "      <th>hum</th>\n",
              "      <th>wind_speed</th>\n",
              "      <th>weather_code</th>\n",
              "      <th>is_holiday</th>\n",
              "      <th>is_weekend</th>\n",
              "      <th>season</th>\n",
              "      <th>hour</th>\n",
              "      <th>day_of_month</th>\n",
              "      <th>day_of_week</th>\n",
              "      <th>month</th>\n",
              "    </tr>\n",
              "    <tr>\n",
              "      <th>timestamp</th>\n",
              "      <th></th>\n",
              "      <th></th>\n",
              "      <th></th>\n",
              "      <th></th>\n",
              "      <th></th>\n",
              "      <th></th>\n",
              "      <th></th>\n",
              "      <th></th>\n",
              "      <th></th>\n",
              "      <th></th>\n",
              "      <th></th>\n",
              "      <th></th>\n",
              "      <th></th>\n",
              "    </tr>\n",
              "  </thead>\n",
              "  <tbody>\n",
              "    <tr>\n",
              "      <th>2015-01-31</th>\n",
              "      <td>546639</td>\n",
              "      <td>4101.000000</td>\n",
              "      <td>2255.500000</td>\n",
              "      <td>51005.00</td>\n",
              "      <td>12502.000000</td>\n",
              "      <td>2211.0</td>\n",
              "      <td>0.0</td>\n",
              "      <td>192.0</td>\n",
              "      <td>2013.0</td>\n",
              "      <td>7709</td>\n",
              "      <td>11753</td>\n",
              "      <td>2014</td>\n",
              "      <td>671</td>\n",
              "    </tr>\n",
              "    <tr>\n",
              "      <th>2015-02-28</th>\n",
              "      <td>543594</td>\n",
              "      <td>3721.500000</td>\n",
              "      <td>1868.000000</td>\n",
              "      <td>51950.00</td>\n",
              "      <td>9873.500000</td>\n",
              "      <td>2409.0</td>\n",
              "      <td>0.0</td>\n",
              "      <td>192.0</td>\n",
              "      <td>2013.0</td>\n",
              "      <td>7707</td>\n",
              "      <td>9734</td>\n",
              "      <td>2015</td>\n",
              "      <td>1342</td>\n",
              "    </tr>\n",
              "    <tr>\n",
              "      <th>2015-03-31</th>\n",
              "      <td>695934</td>\n",
              "      <td>6093.500000</td>\n",
              "      <td>4558.500000</td>\n",
              "      <td>51832.25</td>\n",
              "      <td>12938.250000</td>\n",
              "      <td>1940.0</td>\n",
              "      <td>0.0</td>\n",
              "      <td>215.0</td>\n",
              "      <td>0.0</td>\n",
              "      <td>8540</td>\n",
              "      <td>11751</td>\n",
              "      <td>2174</td>\n",
              "      <td>2217</td>\n",
              "    </tr>\n",
              "    <tr>\n",
              "      <th>2015-04-30</th>\n",
              "      <td>831582</td>\n",
              "      <td>7873.000000</td>\n",
              "      <td>7112.500000</td>\n",
              "      <td>48468.00</td>\n",
              "      <td>10988.500000</td>\n",
              "      <td>1642.0</td>\n",
              "      <td>48.0</td>\n",
              "      <td>191.0</td>\n",
              "      <td>0.0</td>\n",
              "      <td>8270</td>\n",
              "      <td>11156</td>\n",
              "      <td>2131</td>\n",
              "      <td>2876</td>\n",
              "    </tr>\n",
              "    <tr>\n",
              "      <th>2015-05-31</th>\n",
              "      <td>895413</td>\n",
              "      <td>10091.500000</td>\n",
              "      <td>9803.500000</td>\n",
              "      <td>47939.00</td>\n",
              "      <td>14268.500000</td>\n",
              "      <td>1900.0</td>\n",
              "      <td>48.0</td>\n",
              "      <td>240.0</td>\n",
              "      <td>0.0</td>\n",
              "      <td>8556</td>\n",
              "      <td>11904</td>\n",
              "      <td>2376</td>\n",
              "      <td>3720</td>\n",
              "    </tr>\n",
              "    <tr>\n",
              "      <th>2015-06-30</th>\n",
              "      <td>1033252</td>\n",
              "      <td>12151.500000</td>\n",
              "      <td>12073.000000</td>\n",
              "      <td>44371.50</td>\n",
              "      <td>12398.000000</td>\n",
              "      <td>1457.0</td>\n",
              "      <td>0.0</td>\n",
              "      <td>192.0</td>\n",
              "      <td>717.0</td>\n",
              "      <td>8268</td>\n",
              "      <td>11145</td>\n",
              "      <td>2028</td>\n",
              "      <td>4302</td>\n",
              "    </tr>\n",
              "    <tr>\n",
              "      <th>2015-07-31</th>\n",
              "      <td>1120687</td>\n",
              "      <td>14107.000000</td>\n",
              "      <td>14060.000000</td>\n",
              "      <td>46632.50</td>\n",
              "      <td>13067.000000</td>\n",
              "      <td>1710.0</td>\n",
              "      <td>0.0</td>\n",
              "      <td>192.0</td>\n",
              "      <td>740.0</td>\n",
              "      <td>8508</td>\n",
              "      <td>11831</td>\n",
              "      <td>2232</td>\n",
              "      <td>5180</td>\n",
              "    </tr>\n",
              "    <tr>\n",
              "      <th>2015-08-31</th>\n",
              "      <td>1033951</td>\n",
              "      <td>13830.500000</td>\n",
              "      <td>13816.500000</td>\n",
              "      <td>51913.50</td>\n",
              "      <td>10326.000000</td>\n",
              "      <td>1948.0</td>\n",
              "      <td>24.0</td>\n",
              "      <td>240.0</td>\n",
              "      <td>744.0</td>\n",
              "      <td>8556</td>\n",
              "      <td>11904</td>\n",
              "      <td>2280</td>\n",
              "      <td>5952</td>\n",
              "    </tr>\n",
              "    <tr>\n",
              "      <th>2015-09-30</th>\n",
              "      <td>892478</td>\n",
              "      <td>10371.000000</td>\n",
              "      <td>10357.500000</td>\n",
              "      <td>52002.00</td>\n",
              "      <td>9394.000000</td>\n",
              "      <td>1683.0</td>\n",
              "      <td>0.0</td>\n",
              "      <td>185.0</td>\n",
              "      <td>1422.0</td>\n",
              "      <td>8210</td>\n",
              "      <td>11047</td>\n",
              "      <td>2045</td>\n",
              "      <td>6399</td>\n",
              "    </tr>\n",
              "    <tr>\n",
              "      <th>2015-10-31</th>\n",
              "      <td>865046</td>\n",
              "      <td>9474.000000</td>\n",
              "      <td>9321.500000</td>\n",
              "      <td>57887.00</td>\n",
              "      <td>8671.166667</td>\n",
              "      <td>2078.0</td>\n",
              "      <td>0.0</td>\n",
              "      <td>215.0</td>\n",
              "      <td>1472.0</td>\n",
              "      <td>8409</td>\n",
              "      <td>11792</td>\n",
              "      <td>2288</td>\n",
              "      <td>7360</td>\n",
              "    </tr>\n",
              "    <tr>\n",
              "      <th>2015-11-30</th>\n",
              "      <td>677332</td>\n",
              "      <td>8259.500000</td>\n",
              "      <td>7605.000000</td>\n",
              "      <td>56344.50</td>\n",
              "      <td>14191.000000</td>\n",
              "      <td>2418.0</td>\n",
              "      <td>0.0</td>\n",
              "      <td>216.0</td>\n",
              "      <td>1422.0</td>\n",
              "      <td>8200</td>\n",
              "      <td>10988</td>\n",
              "      <td>2146</td>\n",
              "      <td>7821</td>\n",
              "    </tr>\n",
              "    <tr>\n",
              "      <th>2015-12-31</th>\n",
              "      <td>602838</td>\n",
              "      <td>9000.500000</td>\n",
              "      <td>8660.000000</td>\n",
              "      <td>56448.50</td>\n",
              "      <td>15452.500000</td>\n",
              "      <td>2367.0</td>\n",
              "      <td>48.0</td>\n",
              "      <td>188.0</td>\n",
              "      <td>2220.0</td>\n",
              "      <td>8542</td>\n",
              "      <td>11856</td>\n",
              "      <td>2140</td>\n",
              "      <td>8880</td>\n",
              "    </tr>\n",
              "    <tr>\n",
              "      <th>2016-01-31</th>\n",
              "      <td>582518</td>\n",
              "      <td>5459.500000</td>\n",
              "      <td>3872.000000</td>\n",
              "      <td>58230.50</td>\n",
              "      <td>12996.500000</td>\n",
              "      <td>2424.0</td>\n",
              "      <td>24.0</td>\n",
              "      <td>240.0</td>\n",
              "      <td>2232.0</td>\n",
              "      <td>8556</td>\n",
              "      <td>11904</td>\n",
              "      <td>2376</td>\n",
              "      <td>744</td>\n",
              "    </tr>\n",
              "    <tr>\n",
              "      <th>2016-02-29</th>\n",
              "      <td>592910</td>\n",
              "      <td>4695.500000</td>\n",
              "      <td>3033.000000</td>\n",
              "      <td>49847.00</td>\n",
              "      <td>13058.500000</td>\n",
              "      <td>2054.0</td>\n",
              "      <td>0.0</td>\n",
              "      <td>190.0</td>\n",
              "      <td>2064.0</td>\n",
              "      <td>7958</td>\n",
              "      <td>10365</td>\n",
              "      <td>2005</td>\n",
              "      <td>1376</td>\n",
              "    </tr>\n",
              "    <tr>\n",
              "      <th>2016-03-31</th>\n",
              "      <td>656527</td>\n",
              "      <td>5344.000000</td>\n",
              "      <td>3684.500000</td>\n",
              "      <td>53722.50</td>\n",
              "      <td>11778.000000</td>\n",
              "      <td>2177.0</td>\n",
              "      <td>48.0</td>\n",
              "      <td>177.0</td>\n",
              "      <td>0.0</td>\n",
              "      <td>8396</td>\n",
              "      <td>11504</td>\n",
              "      <td>2075</td>\n",
              "      <td>2187</td>\n",
              "    </tr>\n",
              "    <tr>\n",
              "      <th>2016-04-30</th>\n",
              "      <td>768845</td>\n",
              "      <td>6804.500000</td>\n",
              "      <td>5708.500000</td>\n",
              "      <td>48643.50</td>\n",
              "      <td>11067.000000</td>\n",
              "      <td>1901.0</td>\n",
              "      <td>0.0</td>\n",
              "      <td>216.0</td>\n",
              "      <td>0.0</td>\n",
              "      <td>8272</td>\n",
              "      <td>11153</td>\n",
              "      <td>2229</td>\n",
              "      <td>2876</td>\n",
              "    </tr>\n",
              "    <tr>\n",
              "      <th>2016-05-31</th>\n",
              "      <td>1001935</td>\n",
              "      <td>10663.000000</td>\n",
              "      <td>10537.500000</td>\n",
              "      <td>50815.50</td>\n",
              "      <td>11001.500000</td>\n",
              "      <td>1852.0</td>\n",
              "      <td>48.0</td>\n",
              "      <td>216.0</td>\n",
              "      <td>0.0</td>\n",
              "      <td>8556</td>\n",
              "      <td>11904</td>\n",
              "      <td>2184</td>\n",
              "      <td>3720</td>\n",
              "    </tr>\n",
              "    <tr>\n",
              "      <th>2016-06-30</th>\n",
              "      <td>933878</td>\n",
              "      <td>11602.500000</td>\n",
              "      <td>11578.500000</td>\n",
              "      <td>53668.50</td>\n",
              "      <td>9745.000000</td>\n",
              "      <td>2204.0</td>\n",
              "      <td>0.0</td>\n",
              "      <td>192.0</td>\n",
              "      <td>705.0</td>\n",
              "      <td>8175</td>\n",
              "      <td>10800</td>\n",
              "      <td>2076</td>\n",
              "      <td>4230</td>\n",
              "    </tr>\n",
              "    <tr>\n",
              "      <th>2016-07-31</th>\n",
              "      <td>1165527</td>\n",
              "      <td>14467.000000</td>\n",
              "      <td>14453.500000</td>\n",
              "      <td>48719.50</td>\n",
              "      <td>11847.000000</td>\n",
              "      <td>1619.0</td>\n",
              "      <td>0.0</td>\n",
              "      <td>239.0</td>\n",
              "      <td>741.0</td>\n",
              "      <td>8521</td>\n",
              "      <td>11817</td>\n",
              "      <td>2364</td>\n",
              "      <td>5187</td>\n",
              "    </tr>\n",
              "    <tr>\n",
              "      <th>2016-08-31</th>\n",
              "      <td>1137314</td>\n",
              "      <td>14699.000000</td>\n",
              "      <td>14686.500000</td>\n",
              "      <td>47944.00</td>\n",
              "      <td>11860.500000</td>\n",
              "      <td>1511.0</td>\n",
              "      <td>24.0</td>\n",
              "      <td>192.0</td>\n",
              "      <td>740.0</td>\n",
              "      <td>8482</td>\n",
              "      <td>11852</td>\n",
              "      <td>2082</td>\n",
              "      <td>5920</td>\n",
              "    </tr>\n",
              "    <tr>\n",
              "      <th>2016-09-30</th>\n",
              "      <td>998619</td>\n",
              "      <td>12813.000000</td>\n",
              "      <td>12800.000000</td>\n",
              "      <td>48022.00</td>\n",
              "      <td>9580.000000</td>\n",
              "      <td>1622.0</td>\n",
              "      <td>0.0</td>\n",
              "      <td>180.0</td>\n",
              "      <td>1366.0</td>\n",
              "      <td>7915</td>\n",
              "      <td>11075</td>\n",
              "      <td>2025</td>\n",
              "      <td>6147</td>\n",
              "    </tr>\n",
              "    <tr>\n",
              "      <th>2016-10-31</th>\n",
              "      <td>935706</td>\n",
              "      <td>9363.333333</td>\n",
              "      <td>9239.833333</td>\n",
              "      <td>56942.00</td>\n",
              "      <td>9328.666667</td>\n",
              "      <td>1919.0</td>\n",
              "      <td>0.0</td>\n",
              "      <td>239.0</td>\n",
              "      <td>1486.0</td>\n",
              "      <td>8533</td>\n",
              "      <td>11874</td>\n",
              "      <td>2274</td>\n",
              "      <td>7430</td>\n",
              "    </tr>\n",
              "    <tr>\n",
              "      <th>2016-11-30</th>\n",
              "      <td>703859</td>\n",
              "      <td>5827.000000</td>\n",
              "      <td>4499.500000</td>\n",
              "      <td>56243.00</td>\n",
              "      <td>10499.000000</td>\n",
              "      <td>2128.0</td>\n",
              "      <td>0.0</td>\n",
              "      <td>191.0</td>\n",
              "      <td>1438.0</td>\n",
              "      <td>8269</td>\n",
              "      <td>11148</td>\n",
              "      <td>2083</td>\n",
              "      <td>7909</td>\n",
              "    </tr>\n",
              "    <tr>\n",
              "      <th>2016-12-31</th>\n",
              "      <td>651908</td>\n",
              "      <td>5967.500000</td>\n",
              "      <td>4925.000000</td>\n",
              "      <td>63803.50</td>\n",
              "      <td>9216.500000</td>\n",
              "      <td>2005.0</td>\n",
              "      <td>48.0</td>\n",
              "      <td>216.0</td>\n",
              "      <td>2232.0</td>\n",
              "      <td>8556</td>\n",
              "      <td>11904</td>\n",
              "      <td>2304</td>\n",
              "      <td>8928</td>\n",
              "    </tr>\n",
              "    <tr>\n",
              "      <th>2017-01-31</th>\n",
              "      <td>37680</td>\n",
              "      <td>339.000000</td>\n",
              "      <td>114.000000</td>\n",
              "      <td>6071.50</td>\n",
              "      <td>1061.500000</td>\n",
              "      <td>235.0</td>\n",
              "      <td>24.0</td>\n",
              "      <td>24.0</td>\n",
              "      <td>216.0</td>\n",
              "      <td>828</td>\n",
              "      <td>144</td>\n",
              "      <td>168</td>\n",
              "      <td>72</td>\n",
              "    </tr>\n",
              "  </tbody>\n",
              "</table>\n",
              "</div>"
            ],
            "text/plain": [
              "                cnt            t1  ...  day_of_week  month\n",
              "timestamp                          ...                    \n",
              "2015-01-31   546639   4101.000000  ...         2014    671\n",
              "2015-02-28   543594   3721.500000  ...         2015   1342\n",
              "2015-03-31   695934   6093.500000  ...         2174   2217\n",
              "2015-04-30   831582   7873.000000  ...         2131   2876\n",
              "2015-05-31   895413  10091.500000  ...         2376   3720\n",
              "2015-06-30  1033252  12151.500000  ...         2028   4302\n",
              "2015-07-31  1120687  14107.000000  ...         2232   5180\n",
              "2015-08-31  1033951  13830.500000  ...         2280   5952\n",
              "2015-09-30   892478  10371.000000  ...         2045   6399\n",
              "2015-10-31   865046   9474.000000  ...         2288   7360\n",
              "2015-11-30   677332   8259.500000  ...         2146   7821\n",
              "2015-12-31   602838   9000.500000  ...         2140   8880\n",
              "2016-01-31   582518   5459.500000  ...         2376    744\n",
              "2016-02-29   592910   4695.500000  ...         2005   1376\n",
              "2016-03-31   656527   5344.000000  ...         2075   2187\n",
              "2016-04-30   768845   6804.500000  ...         2229   2876\n",
              "2016-05-31  1001935  10663.000000  ...         2184   3720\n",
              "2016-06-30   933878  11602.500000  ...         2076   4230\n",
              "2016-07-31  1165527  14467.000000  ...         2364   5187\n",
              "2016-08-31  1137314  14699.000000  ...         2082   5920\n",
              "2016-09-30   998619  12813.000000  ...         2025   6147\n",
              "2016-10-31   935706   9363.333333  ...         2274   7430\n",
              "2016-11-30   703859   5827.000000  ...         2083   7909\n",
              "2016-12-31   651908   5967.500000  ...         2304   8928\n",
              "2017-01-31    37680    339.000000  ...          168     72\n",
              "\n",
              "[25 rows x 13 columns]"
            ]
          },
          "metadata": {
            "tags": []
          },
          "execution_count": 13
        }
      ]
    },
    {
      "cell_type": "code",
      "metadata": {
        "id": "VsLLi5-yAFGz",
        "colab_type": "code",
        "colab": {
          "base_uri": "https://localhost:8080/",
          "height": 333
        },
        "outputId": "185d0b46-c18e-4ca8-c436-2c6ddc9cc220"
      },
      "source": [
        "sns.lineplot(x=df_by_month.index, y='cnt', data=df_by_month)"
      ],
      "execution_count": 14,
      "outputs": [
        {
          "output_type": "execute_result",
          "data": {
            "text/plain": [
              "<matplotlib.axes._subplots.AxesSubplot at 0x7fec633c84a8>"
            ]
          },
          "metadata": {
            "tags": []
          },
          "execution_count": 14
        },
        {
          "output_type": "display_data",
          "data": {
            "image/png": "[encoded data removed]",
            "text/plain": [
              "<Figure size 432x288 with 1 Axes>"
            ]
          },
          "metadata": {
            "tags": [],
            "needs_background": "light"
          }
        }
      ]
    },
    {
      "cell_type": "code",
      "metadata": {
        "id": "9c8-7JgMA09V",
        "colab_type": "code",
        "colab": {
          "base_uri": "https://localhost:8080/",
          "height": 316
        },
        "outputId": "216eb132-c5e6-471c-e67a-b58065a4f47e"
      },
      "source": [
        "sns.pointplot(data=df, x='hour', y='cnt')"
      ],
      "execution_count": 15,
      "outputs": [
        {
          "output_type": "execute_result",
          "data": {
            "text/plain": [
              "<matplotlib.axes._subplots.AxesSubplot at 0x7fec63e0b5c0>"
            ]
          },
          "metadata": {
            "tags": []
          },
          "execution_count": 15
        },
        {
          "output_type": "display_data",
          "data": {
            "image/png": "[encoded data removed]",
            "text/plain": [
              "<Figure size 432x288 with 1 Axes>"
            ]
          },
          "metadata": {
            "tags": [],
            "needs_background": "light"
          }
        }
      ]
    },
    {
      "cell_type": "code",
      "metadata": {
        "id": "1-82PSVmBaEr",
        "colab_type": "code",
        "colab": {
          "base_uri": "https://localhost:8080/",
          "height": 316
        },
        "outputId": "a7e3cee4-687d-4939-ed53-cd6420e81814"
      },
      "source": [
        "sns.pointplot(data=df, x='hour', y='cnt', hue='is_holiday' )"
      ],
      "execution_count": 16,
      "outputs": [
        {
          "output_type": "execute_result",
          "data": {
            "text/plain": [
              "<matplotlib.axes._subplots.AxesSubplot at 0x7fec63364e48>"
            ]
          },
          "metadata": {
            "tags": []
          },
          "execution_count": 16
        },
        {
          "output_type": "display_data",
          "data": {
            "image/png": "[encoded data removed]",
            "text/plain": [
              "<Figure size 432x288 with 1 Axes>"
            ]
          },
          "metadata": {
            "tags": [],
            "needs_background": "light"
          }
        }
      ]
    },
    {
      "cell_type": "code",
      "metadata": {
        "id": "j4_ySXsECckx",
        "colab_type": "code",
        "colab": {
          "base_uri": "https://localhost:8080/",
          "height": 316
        },
        "outputId": "8059e102-46b4-43d4-f932-13182e14bbaf"
      },
      "source": [
        "sns.pointplot(data=df, x='day_of_week', y='cnt')"
      ],
      "execution_count": 17,
      "outputs": [
        {
          "output_type": "execute_result",
          "data": {
            "text/plain": [
              "<matplotlib.axes._subplots.AxesSubplot at 0x7fec605e8b00>"
            ]
          },
          "metadata": {
            "tags": []
          },
          "execution_count": 17
        },
        {
          "output_type": "display_data",
          "data": {
            "image/png": "[encoded data removed]",
            "text/plain": [
              "<Figure size 432x288 with 1 Axes>"
            ]
          },
          "metadata": {
            "tags": [],
            "needs_background": "light"
          }
        }
      ]
    },
    {
      "cell_type": "code",
      "metadata": {
        "id": "OWXD9i10DlRW",
        "colab_type": "code",
        "colab": {}
      },
      "source": [
        "def create_dataset(x, y, time_steps=1):\n",
        "    xs, ys = [], []\n",
        "    for i in range(len(x) - time_steps):\n",
        "        v = x.iloc[i: (i + time_steps)].to_numpy()\n",
        "        xs.append(v)\n",
        "        ys.append(y.iloc[i + time_steps])\n",
        "    return np.array(xs), np.array(ys)"
      ],
      "execution_count": 0,
      "outputs": []
    },
    {
      "cell_type": "code",
      "metadata": {
        "id": "Aq0jsdm5J4TF",
        "colab_type": "code",
        "colab": {}
      },
      "source": [
        "time_steps = 24\n",
        "\n",
        "x_train, y_train = create_dataset(train, train.cnt, time_steps=time_steps)\n",
        "x_test, y_test = create_dataset(test, test.cnt, time_steps=time_steps)\n"
      ],
      "execution_count": 0,
      "outputs": []
    },
    {
      "cell_type": "code",
      "metadata": {
        "id": "PEHll-yLKtE7",
        "colab_type": "code",
        "colab": {
          "base_uri": "https://localhost:8080/",
          "height": 35
        },
        "outputId": "0c53f41e-12be-4a4c-ce85-1cb687198a5e"
      },
      "source": [
        "print(x_train.shape, y_train.shape)"
      ],
      "execution_count": 23,
      "outputs": [
        {
          "output_type": "stream",
          "text": [
            "(15648, 24, 13) (15648,)\n"
          ],
          "name": "stdout"
        }
      ]
    },
    {
      "cell_type": "code",
      "metadata": {
        "id": "sBlbk0ozLBZM",
        "colab_type": "code",
        "colab": {
          "base_uri": "https://localhost:8080/",
          "height": 35
        },
        "outputId": "7c49704f-b00e-4992-9ee0-1a77d7e18776"
      },
      "source": [
        "print(x_test.shape, y_test.shape)"
      ],
      "execution_count": 24,
      "outputs": [
        {
          "output_type": "stream",
          "text": [
            "(1718, 24, 13) (1718,)\n"
          ],
          "name": "stdout"
        }
      ]
    },
    {
      "cell_type": "code",
      "metadata": {
        "id": "422sIMWkLeyj",
        "colab_type": "code",
        "colab": {}
      },
      "source": [
        "model = keras.Sequential()\n",
        "model.add(keras.layers.Bidirectional(keras.layers.LSTM(units=128, input_shape=(x_train.shape[1], x_train.shape[2]))))\n",
        "\n",
        "model.add(keras.layers.Dropout(rate=0.2))\n",
        "model.add(keras.layers.Dense(units=1))\n"
      ],
      "execution_count": 0,
      "outputs": []
    },
    {
      "cell_type": "code",
      "metadata": {
        "id": "glT_Nn4JNNPB",
        "colab_type": "code",
        "colab": {}
      },
      "source": [
        "model.compile(loss='mean_squared_error', optimizer='adam')"
      ],
      "execution_count": 0,
      "outputs": []
    },
    {
      "cell_type": "code",
      "metadata": {
        "id": "q8qEtu-aNYNc",
        "colab_type": "code",
        "colab": {
          "base_uri": "https://localhost:8080/",
          "height": 1000
        },
        "outputId": "f1e1644d-e53f-44a7-b511-c3304de42663"
      },
      "source": [
        "history = model.fit(x_train, y_train, epochs=30, batch_size=32, validation_split=0.1, shuffle=False )\n"
      ],
      "execution_count": 27,
      "outputs": [
        {
          "output_type": "stream",
          "text": [
            "Epoch 1/30\n",
            "WARNING:tensorflow:Layer bidirectional is casting an input tensor from dtype float64 to the layer's dtype of float32, which is new behavior in TensorFlow 2.  The layer has dtype float32 because it's dtype defaults to floatx.\n",
            "\n",
            "If you intended to run this layer in float32, you can safely ignore this warning. If in doubt, this warning is likely only an issue if you are porting a TensorFlow 1.X model to TensorFlow 2.\n",
            "\n",
            "To change all layers to have dtype float64 by default, call `tf.keras.backend.set_floatx('float64')`. To change just this layer, pass dtype='float64' to the layer constructor. If you are the author of this layer, you can disable autocasting by passing autocast=False to the base Layer constructor.\n",
            "\n",
            "441/441 [==============================] - 18s 40ms/step - loss: 0.3253 - val_loss: 0.1743\n",
            "Epoch 2/30\n",
            "441/441 [==============================] - 17s 38ms/step - loss: 0.1105 - val_loss: 0.0730\n",
            "Epoch 3/30\n",
            "441/441 [==============================] - 17s 38ms/step - loss: 0.0622 - val_loss: 0.0609\n",
            "Epoch 4/30\n",
            "441/441 [==============================] - 17s 38ms/step - loss: 0.0458 - val_loss: 0.0400\n",
            "Epoch 5/30\n",
            "441/441 [==============================] - 17s 38ms/step - loss: 0.0379 - val_loss: 0.0370\n",
            "Epoch 6/30\n",
            "441/441 [==============================] - 17s 38ms/step - loss: 0.0329 - val_loss: 0.0383\n",
            "Epoch 7/30\n",
            "441/441 [==============================] - 17s 38ms/step - loss: 0.0316 - val_loss: 0.0391\n",
            "Epoch 8/30\n",
            "441/441 [==============================] - 17s 37ms/step - loss: 0.0279 - val_loss: 0.0314\n",
            "Epoch 9/30\n",
            "441/441 [==============================] - 17s 38ms/step - loss: 0.0259 - val_loss: 0.0327\n",
            "Epoch 10/30\n",
            "441/441 [==============================] - 17s 38ms/step - loss: 0.0247 - val_loss: 0.0341\n",
            "Epoch 11/30\n",
            "441/441 [==============================] - 17s 38ms/step - loss: 0.0231 - val_loss: 0.0330\n",
            "Epoch 12/30\n",
            "441/441 [==============================] - 17s 38ms/step - loss: 0.0222 - val_loss: 0.0321\n",
            "Epoch 13/30\n",
            "441/441 [==============================] - 17s 38ms/step - loss: 0.0208 - val_loss: 0.0309\n",
            "Epoch 14/30\n",
            "441/441 [==============================] - 17s 38ms/step - loss: 0.0207 - val_loss: 0.0291\n",
            "Epoch 15/30\n",
            "441/441 [==============================] - 17s 38ms/step - loss: 0.0196 - val_loss: 0.0236\n",
            "Epoch 16/30\n",
            "441/441 [==============================] - 17s 38ms/step - loss: 0.0199 - val_loss: 0.0220\n",
            "Epoch 17/30\n",
            "441/441 [==============================] - 17s 38ms/step - loss: 0.0188 - val_loss: 0.0281\n",
            "Epoch 18/30\n",
            "441/441 [==============================] - 17s 38ms/step - loss: 0.0189 - val_loss: 0.0266\n",
            "Epoch 19/30\n",
            "441/441 [==============================] - 17s 38ms/step - loss: 0.0177 - val_loss: 0.0296\n",
            "Epoch 20/30\n",
            "441/441 [==============================] - 17s 38ms/step - loss: 0.0182 - val_loss: 0.0310\n",
            "Epoch 21/30\n",
            "441/441 [==============================] - 17s 38ms/step - loss: 0.0176 - val_loss: 0.0255\n",
            "Epoch 22/30\n",
            "441/441 [==============================] - 17s 38ms/step - loss: 0.0177 - val_loss: 0.0244\n",
            "Epoch 23/30\n",
            "441/441 [==============================] - 17s 38ms/step - loss: 0.0168 - val_loss: 0.0298\n",
            "Epoch 24/30\n",
            "441/441 [==============================] - 17s 39ms/step - loss: 0.0161 - val_loss: 0.0255\n",
            "Epoch 25/30\n",
            "441/441 [==============================] - 17s 38ms/step - loss: 0.0155 - val_loss: 0.0261\n",
            "Epoch 26/30\n",
            "441/441 [==============================] - 17s 38ms/step - loss: 0.0158 - val_loss: 0.0200\n",
            "Epoch 27/30\n",
            "441/441 [==============================] - 17s 38ms/step - loss: 0.0155 - val_loss: 0.0259\n",
            "Epoch 28/30\n",
            "441/441 [==============================] - 17s 38ms/step - loss: 0.0154 - val_loss: 0.0280\n",
            "Epoch 29/30\n",
            "441/441 [==============================] - 17s 38ms/step - loss: 0.0154 - val_loss: 0.0269\n",
            "Epoch 30/30\n",
            "441/441 [==============================] - 17s 38ms/step - loss: 0.0145 - val_loss: 0.0252\n"
          ],
          "name": "stdout"
        }
      ]
    },
    {
      "cell_type": "code",
      "metadata": {
        "id": "hG91fqnoOO3p",
        "colab_type": "code",
        "colab": {
          "base_uri": "https://localhost:8080/",
          "height": 294
        },
        "outputId": "2459f7dd-9592-4e02-eb05-16ad5d6cb4a6"
      },
      "source": [
        "plt.plot(history.history['loss'], label='train')\n",
        "plt.plot(history.history['val_loss'], label='validation')\n",
        "plt.legend()"
      ],
      "execution_count": 29,
      "outputs": [
        {
          "output_type": "execute_result",
          "data": {
            "text/plain": [
              "<matplotlib.legend.Legend at 0x7fec552c6748>"
            ]
          },
          "metadata": {
            "tags": []
          },
          "execution_count": 29
        },
        {
          "output_type": "display_data",
          "data": {
            "image/png": "[encoded data removed]",
            "text/plain": [
              "<Figure size 432x288 with 1 Axes>"
            ]
          },
          "metadata": {
            "tags": [],
            "needs_background": "light"
          }
        }
      ]
    },
    {
      "cell_type": "code",
      "metadata": {
        "id": "QKmH8s48dOs3",
        "colab_type": "code",
        "colab": {}
      },
      "source": [
        "y_pred = model.predict(x_test)"
      ],
      "execution_count": 0,
      "outputs": []
    },
    {
      "cell_type": "code",
      "metadata": {
        "id": "N3KgQBN3eAdj",
        "colab_type": "code",
        "colab": {}
      },
      "source": [
        "y_train_inv = cnt_transformer.inverse_transform(y_train.reshape(1,-1))\n",
        "y_test_inv = cnt_transformer.inverse_transform(y_test.reshape(1,-1))\n",
        "y_pred_inv = cnt_transformer.inverse_transform(y_pred)"
      ],
      "execution_count": 0,
      "outputs": []
    },
    {
      "cell_type": "code",
      "metadata": {
        "id": "I0YTXh6egYTx",
        "colab_type": "code",
        "colab": {
          "base_uri": "https://localhost:8080/",
          "height": 294
        },
        "outputId": "4926a747-cfb7-4461-a596-88d78fd5fa29"
      },
      "source": [
        "plt.plot(y_test_inv.flatten(), marker='.', label='true')\n",
        "plt.plot(y_pred_inv.flatten(), 'r',marker='.', label='predicted')\n",
        "plt.legend()"
      ],
      "execution_count": 34,
      "outputs": [
        {
          "output_type": "execute_result",
          "data": {
            "text/plain": [
              "<matplotlib.legend.Legend at 0x7fec56229048>"
            ]
          },
          "metadata": {
            "tags": []
          },
          "execution_count": 34
        },
        {
          "output_type": "display_data",
          "data": {
            "image/png": "[encoded data removed]",
            "text/plain": [
              "<Figure size 432x288 with 1 Axes>"
            ]
          },
          "metadata": {
            "tags": [],
            "needs_background": "light"
          }
        }
      ]
    },
    {
      "cell_type": "code",
      "metadata": {
        "id": "Odlan64HhIdh",
        "colab_type": "code",
        "colab": {}
      },
      "source": [
        ""
      ],
      "execution_count": 0,
      "outputs": []
    }
  ]
}